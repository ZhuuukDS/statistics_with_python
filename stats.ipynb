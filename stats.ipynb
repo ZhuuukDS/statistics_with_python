{
 "cells": [
  {
   "cell_type": "markdown",
   "source": [
    "# Statistics with Python Implementation\n",
    "____"
   ],
   "metadata": {
    "collapsed": false
   }
  },
  {
   "cell_type": "markdown",
   "source": [
    "## Contents:\n",
    "- [Statistics Summary](#Statistics-Summary)\n",
    "  - Types of Statistics\n",
    "  - Population and Sample\n",
    "  - Types of Variables\n",
    "  - 4 levels of Variable Measurement\n",
    "  - Plots\n",
    "- [Measure of Central Tendency](#Measure-of-Central-Tendency)\n",
    "\t- Mean\n",
    "\t- Median\n",
    "\t- Mode\n",
    "- [Measures of Variability](#Measures-of-Variability)\n",
    "\t- Dispersion\n",
    "\t- Range\n",
    "\t- Variance\n",
    "\t- Standard deviation\n",
    "\n",
    "- [Distribution Quantiles](#Distribution-Quantiles)\n",
    "\t- Percentiles\n",
    "\t- Quantiles and Quartiles\n",
    "\t- Interquartile range\n",
    "\t- Outliers\n",
    "\n",
    "- [Normal Distribution](#Normal-Distribution)\n",
    "\t- Probabilistic rule for Gaussian distribution\n",
    "\t- How to check if distribution is normal\n",
    "\t- z-score and z-table\n",
    "\t- Standardisation and Normalization\n",
    "\n",
    "- [Hypothesis Testing](#Hypothesis-Testing)\n",
    "\t- Null Hypothesis and Alternative Hypothesis\n",
    "\t- Types of errors\n",
    "\t- p-value\n",
    "\n",
    "- [Central Limit Theorem](#Central-Limit-Theorem)\n",
    "\t- point estimate\n",
    "\t- standard mean error\n",
    "- [Z-Test](#Z-Test)\n",
    "\t- one-sample z-test\n",
    "\t- two-sample z-test\n",
    "\t- Confidence intervals\n",
    "\n",
    "- [Comparing Means](#Comparing-Means)\n",
    " \t- [T-Test](#T-Test)\n",
    "\t\t- Student’s distribution\n",
    "\t\t- One-sample t-test\n",
    "\t\t- Two-sample t-test\n",
    "\n",
    "    - [ANOVA](#ANOVA)\n",
    "\t    - One-way ANOVA\n",
    "\t    - Sums of squares\n",
    "\t\t    - ss total\n",
    "\t\t    - ss within-group\n",
    "\t\t    - ss between-group\n",
    "\t    - Between-group variability\n",
    "\t    - Within-group variability\n",
    "        - Fisher’s F-test\n",
    "        - Bonferroni correction\n",
    "        - Tukey HSD\n",
    "\n",
    "    - [Two-Way ANOVA](#Two-Way-ANOVA)\n",
    "\n",
    "- [Correlation](#Correlation)\n",
    "\t- Correlation\n",
    "\t- Covariance\n",
    " \t- Pearson correlation\n",
    "\t- Spearman Correlation\n",
    "\n",
    "- [Simple Linear Regression](#Simple-Linear-Regression)\n",
    "\t- One-way regression analysis\n",
    "\t- Regression line\n",
    "\t- Least square method\n",
    "\t- Coefficient of determination\n",
    "\t- Conditions to use linear regression\n",
    "\n",
    "- [Multiple Linear Regression](#Multiple-Linear-Regression)\n",
    "\t- Adjusted R-squared\n",
    "\t- Conditions for multiple linear regression\n",
    "\n",
    "- [Categorical Data Analysis](#Categorical-Data-Analysis)\n",
    "    - Probability mass function\n",
    "    - Bernoulli’s distribution\n",
    "    - Binomial distribution\n",
    "    - [Chi-Square Test](#Chi-Square-Test)\n",
    "\n",
    "    - [Contingency Tables Analysis](#Contingency-Tables-Analysis)\n",
    "        - Expected values\n",
    "        - Observed values\n",
    "        - Chi-Square for contingency table\n",
    "        - Yates correction\n",
    "        - Fisher’s exact test\n",
    "\n",
    "    - [Logistic Regression](#Logistic-Regression)\n",
    "        - odds and log odds\n",
    "        - Intercept only model\n",
    "        - Model with one categorical predictor\n",
    "        - Model with two categorical predictors\n",
    "        - Mixed regression model\n",
    "\n",
    "- [Nonparametric Methods](#Nonparametric-Methods)\n",
    "    - Wilcoxon signed-rank W-test\n",
    "\t- Mann–Whitney U-test\n",
    "\t- Kruskal–Wallis H-test\n",
    "\n",
    "- [Bonus!!!](#Bonus!!!)\n",
    "\t- K-Means Clustering\n",
    "\n",
    "- [Roadmap of Choosing Statistical Methods](#Roadmap-of-Choosing-Statistical-Methods)\n"
   ],
   "metadata": {
    "collapsed": false
   }
  },
  {
   "cell_type": "code",
   "execution_count": 70,
   "outputs": [],
   "source": [
    "import numpy as np\n",
    "import math\n",
    "from scipy import stats\n",
    "import pandas as pd\n",
    "import matplotlib.pyplot as plt\n",
    "import seaborn as sns\n",
    "import statistics"
   ],
   "metadata": {
    "collapsed": false
   }
  },
  {
   "cell_type": "code",
   "execution_count": 71,
   "outputs": [],
   "source": [
    "sns.set(rc={\"figure.figsize\":(3, 2)})\n",
    "%matplotlib inline"
   ],
   "metadata": {
    "collapsed": false
   }
  },
  {
   "cell_type": "markdown",
   "source": [
    "## Statistics Summary"
   ],
   "metadata": {
    "collapsed": false
   }
  },
  {
   "cell_type": "markdown",
   "source": [
    "__What is Statistics__ - is a science of collecting, organizing and analyzing data"
   ],
   "metadata": {
    "collapsed": false
   }
  },
  {
   "cell_type": "markdown",
   "source": [
    "__Why need Statistics?__ - to know the data and for better decision-making"
   ],
   "metadata": {
    "collapsed": false
   }
  },
  {
   "cell_type": "markdown",
   "source": [
    "__What is Data?__ - facts or pieces of information that can be measured"
   ],
   "metadata": {
    "collapsed": false
   }
  },
  {
   "cell_type": "markdown",
   "source": [
    "__Types of Statistics?__\n",
    "   - __Descriptive__ - consists of organizing and summarizing data\n",
    "   - __Inferential__ - technique wherein we used the data that we have measured to form conclusions"
   ],
   "metadata": {
    "collapsed": false
   }
  },
  {
   "cell_type": "markdown",
   "source": [
    "__Population ($N$)__ - is a set of similar items or events which is of interest for some question or experiment"
   ],
   "metadata": {
    "collapsed": false
   }
  },
  {
   "cell_type": "markdown",
   "source": [
    "__Sample ($n$)__ - a subset of the population that is chosen to represent the population in a statistical analysis"
   ],
   "metadata": {
    "collapsed": false
   }
  },
  {
   "cell_type": "markdown",
   "source": [
    "__Sampling Techniques__:\n",
    "  - __Simple Random Sample__ - events or items are randomly chosen (each has an equal chance to be picked up)\n",
    "  - __Stratified Sample__ - the population is split into non-overlapping groups (stratum), then sampling is done on elements within each stratum (Male & Female)\n",
    "  - __Systematic Sampling__ - we choose every $n^{th}$ sample from the population\n",
    "  - __Cluster Sample__ - the population is divided into mutually homogeneous yet internally heterogeneous groups (clusters) and then selected clusters are sampled\n"
   ],
   "metadata": {
    "collapsed": false
   }
  },
  {
   "cell_type": "markdown",
   "source": [
    "__Variables__ - a property that can take on any value:\n",
    "   - Numerical (quantitative) - measurable numerically, math functions can be applied:\n",
    "      - Continuous 0, 2, 4.5, 10, 22, 57.1 - _age, weight, height, etc_\n",
    "      - Discrete 1, 2, 3, 4 - _how many children I have_\n",
    "   - Categorical (Qualitative) - categories based on some characteristics (_color, gender, type, etc_)"
   ],
   "metadata": {
    "collapsed": false
   }
  },
  {
   "cell_type": "markdown",
   "source": [
    "4 Levels of Variable Measurement:\n",
    " - Nominal data - values with no numerical meaning - categories, classes, etc (_gender, color_)\n",
    " - Ordinal data - values are numbers but __ordering__ is the only meaning of the numbers (_school marks_)\n",
    " - Interval data - numerical data where the intervals between numbers are comparable (no absolute zero and no ratio, like in _time intervals_)\n",
    " - Ratio data - all the characteristics of interval data plus there's an \"absolute zero\" and ration between values matters (_height_)"
   ],
   "metadata": {
    "collapsed": false
   }
  },
  {
   "cell_type": "markdown",
   "source": [
    "__Frequency__ - how often an item or event occur"
   ],
   "metadata": {
    "collapsed": false
   }
  },
  {
   "cell_type": "markdown",
   "source": [
    "__Bar plot__ - graph to show the frequency of discrete variables"
   ],
   "metadata": {
    "collapsed": false
   }
  },
  {
   "cell_type": "code",
   "execution_count": 72,
   "outputs": [
    {
     "data": {
      "text/plain": "<AxesSubplot: >"
     },
     "execution_count": 72,
     "metadata": {},
     "output_type": "execute_result"
    },
    {
     "data": {
      "text/plain": "<Figure size 300x200 with 1 Axes>",
      "image/png": "[encoded data removed]"
     },
     "metadata": {},
     "output_type": "display_data"
    }
   ],
   "source": [
    "flowers = pd.Series(['lilly', 'rose', 'rose', 'sunflower', 'lilly', 'iris', 'iris', 'lilly', 'iris', 'iris'])\n",
    "flowers.value_counts().plot(kind='bar', figsize=(3, 2))"
   ],
   "metadata": {
    "collapsed": false
   }
  },
  {
   "cell_type": "markdown",
   "source": [
    "__Histogram__ - graph to show the frequency of continuous variables"
   ],
   "metadata": {
    "collapsed": false
   }
  },
  {
   "cell_type": "code",
   "execution_count": 73,
   "outputs": [
    {
     "data": {
      "text/plain": "<AxesSubplot: ylabel='Frequency'>"
     },
     "execution_count": 73,
     "metadata": {},
     "output_type": "execute_result"
    },
    {
     "data": {
      "text/plain": "<Figure size 300x200 with 1 Axes>",
      "image/png": "[encoded data removed]"
     },
     "metadata": {},
     "output_type": "display_data"
    }
   ],
   "source": [
    "numbers = pd.Series([1, 4, 12, 34, 6, 13, 43, 1, 12, 6, 64, 34, 6, 18, 12, 13, 14, 22, 24, 42])\n",
    "numbers.plot(kind='hist', figsize=(3, 2))"
   ],
   "metadata": {
    "collapsed": false
   }
  },
  {
   "cell_type": "code",
   "execution_count": 74,
   "outputs": [
    {
     "data": {
      "text/plain": "<AxesSubplot: ylabel='Count'>"
     },
     "execution_count": 74,
     "metadata": {},
     "output_type": "execute_result"
    },
    {
     "data": {
      "text/plain": "<Figure size 300x200 with 1 Axes>",
      "image/png": "[encoded data removed]"
     },
     "metadata": {},
     "output_type": "display_data"
    }
   ],
   "source": [
    "sns.histplot(numbers, kde=True, bins=10)"
   ],
   "metadata": {
    "collapsed": false
   }
  },
  {
   "cell_type": "markdown",
   "source": [
    "## Measure of Central Tendency"
   ],
   "metadata": {
    "collapsed": false
   }
  },
  {
   "cell_type": "markdown",
   "source": [
    "__Central Tendency__ - refers to the measure used to determine the center of the distribution of data:\n",
    " - Median - a value which is in the middle of the __sorted__ values (if number of values is even, then the mean of two middle values)\n",
    " - Mode - most frequently occurred value\n",
    " - Mean - arithmetic average - sum of all values divided by its count:\n",
    "    - for Population ($N$): $\\mu = \\sum_{i=1}^{N}\\frac{x_i}{N}$\n",
    "    - for sample ($n$): $\\bar{x}=\\sum_{i=1}^{n}\\frac{x_i}{n}$"
   ],
   "metadata": {
    "collapsed": false
   }
  },
  {
   "cell_type": "markdown",
   "source": [
    "__Properties of Mean__:\n",
    " - $M_{x+C} = M_x + C$\n",
    " - $M_{x*C} = M_x*C$\n",
    " - $\\sum(x_i-M_x)=0$"
   ],
   "metadata": {
    "collapsed": false
   }
  },
  {
   "cell_type": "code",
   "execution_count": 75,
   "outputs": [
    {
     "name": "stdout",
     "output_type": "stream",
     "text": [
      "Mode = 1 = 1\n"
     ]
    }
   ],
   "source": [
    "points = [1, 5, 2, 7, 1, 9, 3, 8, 5, 9, 1, 2]\n",
    "# calculate mode from scratch\n",
    "def get_mode(data):\n",
    "    count_values = {}\n",
    "    max_count = 1\n",
    "\n",
    "    for d in data:\n",
    "        count_values[d] = count_values.get(d, 0) + 1\n",
    "        if count_values[d] > max_count:\n",
    "            max_count = count_values[d]\n",
    "            mode = d\n",
    "    return mode\n",
    "\n",
    "# find the mode using statistics library\n",
    "mode_stats = statistics.mode(points)\n",
    "\n",
    "print(f'Mode = {get_mode(points)} = {mode_stats}')"
   ],
   "metadata": {
    "collapsed": false
   }
  },
  {
   "cell_type": "code",
   "execution_count": 76,
   "outputs": [
    {
     "name": "stdout",
     "output_type": "stream",
     "text": [
      "Median = 4.0 = 4.0\n"
     ]
    }
   ],
   "source": [
    "# calculate median from scratch\n",
    "def calc_median(data):\n",
    "    array = sorted(data)\n",
    "    average = len(array)//2\n",
    "    if len(array)%2 == 0:\n",
    "        median = (array[average-1] + array[average])/2\n",
    "    else:\n",
    "        median = array[average]\n",
    "    return median\n",
    "\n",
    "#get median from statistics library\n",
    "median_stats = statistics.median(points)\n",
    "\n",
    "print(f'Median = {calc_median(points)} = {median_stats}')"
   ],
   "metadata": {
    "collapsed": false
   }
  },
  {
   "cell_type": "code",
   "execution_count": 77,
   "outputs": [
    {
     "name": "stdout",
     "output_type": "stream",
     "text": [
      "Mean = 4.416666666666667 = 4.416666666666667\n"
     ]
    }
   ],
   "source": [
    "# calculate mean from scratch\n",
    "mean = sum(points)/len(points)\n",
    "\n",
    "# get mean from statistics library\n",
    "mean_stats = statistics.mean(points)\n",
    "\n",
    "print(f'Mean = {mean} = {mean_stats}')"
   ],
   "metadata": {
    "collapsed": false
   }
  },
  {
   "cell_type": "markdown",
   "source": [
    "## Measures of Variability"
   ],
   "metadata": {
    "collapsed": false
   }
  },
  {
   "cell_type": "markdown",
   "source": [
    "__Measures of Variability__:\n",
    " - Dispersion - spread of the values in data\n",
    "  - Range - simple measure of _Dispersion_ - difference between min and max\n",
    " - Variance - the expectation of the squared deviation of a random variable from its population mean or sample mean - is a measure of _Dispersion_ meaning it is a measure of how far a set of numbers is spread out from their average value:\n",
    "    - Population Variance: $\\sigma^2=\\sum_{i=1}^{N}\\frac{(x_i-\\mu)^2}{N}$\n",
    "    - Sample Variance: $s^2=\\sum_{i=1}^{n}\\frac{(x_i-\\bar{x})^2}{n-1}$\n",
    " - Standard Deviation - a measure of the amount of variation or dispersion of a set of values and is a square root of Variance:\n",
    "    - Population Standard Deviation:  $\\sigma=\\sqrt{\\sigma^2}$\n",
    "    - Sample Standard Deviation:  $s = \\sqrt{s^2}$"
   ],
   "metadata": {
    "collapsed": false
   }
  },
  {
   "cell_type": "markdown",
   "source": [
    "__Properties Standard Deviation__:\n",
    "   - $s_{x+C}=s_x$\n",
    "   - $s_{xC}=s_x\\cdot C$"
   ],
   "metadata": {
    "collapsed": false
   }
  },
  {
   "cell_type": "code",
   "execution_count": 78,
   "outputs": [
    {
     "data": {
      "text/plain": "8"
     },
     "execution_count": 78,
     "metadata": {},
     "output_type": "execute_result"
    }
   ],
   "source": [
    "# calculate range\n",
    "range_data = max(points) - min(points)\n",
    "range_data"
   ],
   "metadata": {
    "collapsed": false
   }
  },
  {
   "cell_type": "code",
   "execution_count": 79,
   "outputs": [
    {
     "name": "stdout",
     "output_type": "stream",
     "text": [
      "Variance = 10.083333333333334 = 10.083333333333334\n"
     ]
    }
   ],
   "source": [
    "# calculate population variance from scratch\n",
    "def calc_variance(data):\n",
    "    deviation_sum = 0\n",
    "    for x_i in data:\n",
    "        deviation_sum += (x_i-mean)**2\n",
    "    variance = deviation_sum/(len(data)-1)\n",
    "    return variance\n",
    "\n",
    "# get population variance from statistics library\n",
    "variance_stats = statistics.variance(points)\n",
    "\n",
    "print(f'Variance = {calc_variance(points)} = {variance_stats}')"
   ],
   "metadata": {
    "collapsed": false
   }
  },
  {
   "cell_type": "code",
   "execution_count": 80,
   "outputs": [
    {
     "name": "stdout",
     "output_type": "stream",
     "text": [
      "Standard deviation = 3.1754264805429417 = 3.1754264805429417\n"
     ]
    }
   ],
   "source": [
    "# calculate standard deviation from scratch\n",
    "sd = variance_stats**(1/2)\n",
    "\n",
    "# get standard deviation from statistics library\n",
    "sd_stats = statistics.stdev(points)\n",
    "\n",
    "print(f'Standard deviation = {sd} = {sd_stats}')"
   ],
   "metadata": {
    "collapsed": false
   }
  },
  {
   "cell_type": "markdown",
   "source": [
    "## Distribution Quantiles"
   ],
   "metadata": {
    "collapsed": false
   }
  },
  {
   "cell_type": "markdown",
   "source": [
    "__Percentile Score__ - a k-th percentile - is a score below which a given percentage k of scores in its frequency distribution falls (exclusive definition) or a score at or below which a given percentage falls (inclusive definition):\n",
    "  - $P_x = \\frac{number\\_of\\_values\\_below\\_x}{n}\\cdot100$\n",
    "\n",
    "__Example__:\n",
    "\n",
    "_distribution = 2, 2, 3, 4, 5, 5, 5, 6, 7, 8, 8, 8, 8, 8, 9, 9, 10, 11, 11, 12_\n",
    "_1. What is the Percentile ranking of '10'?_\n",
    "\n",
    "_x=10_\n",
    "_n=20_\n",
    "_number of values before '10' - 16_\n",
    "$P_x=P_{10}=\\frac{16}{20}\\cdot100=80\\%$\n",
    "\n",
    "_2. What value exists at the Percentile of 25%?_\n",
    "_Value = (Percentile/100) x (n + 1)_"
   ],
   "metadata": {
    "collapsed": false
   }
  },
  {
   "cell_type": "markdown",
   "source": [
    "__Quantiles__: cut points dividing the range of a distribution into continuous intervals with equal probabilities."
   ],
   "metadata": {
    "collapsed": false
   }
  },
  {
   "cell_type": "markdown",
   "source": [
    "__Quartiles__: 3 points that divide the distribution into 4 parts:\n",
    " - 1st quartile (Q1) - 25% Percentile of the sorted distribution\n",
    " - 2nd quartile (Q2) = Median\n",
    " - 3rd quartile (Q3) - 75% Percentile of the sorted distribution"
   ],
   "metadata": {
    "collapsed": false
   }
  },
  {
   "cell_type": "markdown",
   "source": [
    "__Interquartile range__ - another measure of _Dispersion_: IQR = Q3 - Q1"
   ],
   "metadata": {
    "collapsed": false
   }
  },
  {
   "cell_type": "markdown",
   "source": [
    "__Q-Q plot__ - a probability quantile – quantile plot, a graphical method for comparing two probability distributions by plotting their quantiles against each other. If the two distributions being compared are similar, the points in the Q–Q plot will approximately lie on the identity line y = x"
   ],
   "metadata": {
    "collapsed": false
   }
  },
  {
   "cell_type": "code",
   "execution_count": 81,
   "outputs": [
    {
     "data": {
      "text/plain": "<Figure size 300x200 with 1 Axes>",
      "image/png": "[encoded data removed]"
     },
     "metadata": {},
     "output_type": "display_data"
    }
   ],
   "source": [
    "import statsmodels.api as sm\n",
    "data_points = np.random.normal(0, 1, 100)\n",
    "fig = sm.qqplot(data_points, line ='45')\n",
    "plt.show()"
   ],
   "metadata": {
    "collapsed": false
   }
  },
  {
   "cell_type": "markdown",
   "source": [
    "__Outliers__ - values that are lying below (Q1 - 1.5 x IQR) and above (Q3 + 1.5 x IQR)"
   ],
   "metadata": {
    "collapsed": false
   }
  },
  {
   "cell_type": "markdown",
   "source": [
    "__Box Plot__ - a graph that shows _median_, _quartiles_, _min_ and _max_ values and the _outliers_"
   ],
   "metadata": {
    "collapsed": false
   }
  },
  {
   "cell_type": "code",
   "execution_count": 82,
   "outputs": [
    {
     "data": {
      "text/plain": "<AxesSubplot: >"
     },
     "execution_count": 82,
     "metadata": {},
     "output_type": "execute_result"
    },
    {
     "data": {
      "text/plain": "<Figure size 300x200 with 1 Axes>",
      "image/png": "[encoded data removed]"
     },
     "metadata": {},
     "output_type": "display_data"
    }
   ],
   "source": [
    "a = pd.Series([-2, 5, 7, 4, 8, 4, 6, 9, 8, 6, 4, 6, 8, 11, 21, 33])\n",
    "sns.boxplot(a, width=.2)"
   ],
   "metadata": {
    "collapsed": false
   }
  },
  {
   "cell_type": "markdown",
   "source": [
    "## Normal Distribution"
   ],
   "metadata": {
    "collapsed": false
   }
  },
  {
   "cell_type": "markdown",
   "source": [
    "__Distributions__ - showing how the values in the data are distributed"
   ],
   "metadata": {
    "collapsed": false
   }
  },
  {
   "cell_type": "markdown",
   "source": [
    "__Normal (Gaussian) Distribution__ - symmetric, uni-modal and deviations from the mean follow the probabilistic law ($3\\sigma$):\n",
    "   - 65% of observations lie within 1 standard deviations from the mean\n",
    "   - 95% of observations lie within 2 standard deviations from the mean\n",
    "   - 99,7% of observations lie within 3 standard deviations from the mean\n",
    "$$P(\\bar{x}-\\sigma < X < \\bar{x}+\\sigma) = 0.68$$\n",
    "$$P(\\bar{x}-2\\sigma < X < \\bar{x}+2\\sigma) = 0.95$$\n",
    "$$P(\\bar{x}-3\\sigma < X < \\bar{x}+3\\sigma) = 0.997$$\n"
   ],
   "metadata": {
    "collapsed": false
   }
  },
  {
   "cell_type": "markdown",
   "source": [
    "__How to check that the distribution is normal?__:\n",
    " 1) Q-Q plot - if close to $45\\degree$ line then normal\n",
    " 2) Shapiro–Wilk test - tests the null hypothesis that a sample came from a normally distributed population"
   ],
   "metadata": {
    "collapsed": false
   }
  },
  {
   "cell_type": "code",
   "execution_count": 83,
   "outputs": [
    {
     "data": {
      "text/plain": "ShapiroResult(statistic=0.9896007776260376, pvalue=0.6323887705802917)"
     },
     "execution_count": 83,
     "metadata": {},
     "output_type": "execute_result"
    }
   ],
   "source": [
    "stats.shapiro(data_points) # if p-value >= 0.05, then normal"
   ],
   "metadata": {
    "collapsed": false
   }
  },
  {
   "cell_type": "markdown",
   "source": [
    "__z-score__ - shows how much the value is away from the mean in terms of the standard deviation:\n",
    "$$z_i=\\frac{x_i-\\mu}{\\sigma}$$\n"
   ],
   "metadata": {
    "collapsed": false
   }
  },
  {
   "cell_type": "markdown",
   "source": [
    "__Standardization__ - transforming distribution by applying z-score to every value in this distribution"
   ],
   "metadata": {
    "collapsed": false
   }
  },
  {
   "cell_type": "markdown",
   "source": [
    "__Standard Normal Distribution__ - transformed dataset where mean is $\\mu_z=0$ and standard deviation is $\\sigma_z=1$, which we get after standardization"
   ],
   "metadata": {
    "collapsed": false
   }
  },
  {
   "cell_type": "markdown",
   "source": [
    "__Normalization__ - a process to transform all the values in the distribution to be in between 0 and 1 _(MinMax Scaler)_"
   ],
   "metadata": {
    "collapsed": false
   }
  },
  {
   "cell_type": "markdown",
   "source": [
    "__z-table__ - a table that helps to find an area under the bell curve (%) with respect to a given z-score"
   ],
   "metadata": {
    "collapsed": false
   }
  },
  {
   "cell_type": "markdown",
   "source": [
    "__scipy.stats.norm.cdf()__ - Cumulative distribution function for normal distribution. Finds how many % of the sample are located before/less than the given value"
   ],
   "metadata": {
    "collapsed": false
   }
  },
  {
   "cell_type": "code",
   "execution_count": 84,
   "outputs": [
    {
     "name": "stdout",
     "output_type": "stream",
     "text": [
      "On the interval [-inf; 0.8sd] 78.81% of the values are located\n"
     ]
    }
   ],
   "source": [
    "print(f'On the interval [-inf; 0.8sd] {stats.norm.cdf(0.8):.2%} of the values are located')"
   ],
   "metadata": {
    "collapsed": false
   }
  },
  {
   "cell_type": "markdown",
   "source": [
    "__scipy.stats.norm.sf()__ - Cumulative distribution function for normal distribution. Finds how many % of the sample are located after/larger than the given value"
   ],
   "metadata": {
    "collapsed": false
   }
  },
  {
   "cell_type": "code",
   "execution_count": 85,
   "outputs": [
    {
     "name": "stdout",
     "output_type": "stream",
     "text": [
      "On the interval [0.8sd; +inf] 21.19% of the values are located\n"
     ]
    }
   ],
   "source": [
    "print(f'On the interval [0.8sd; +inf] {stats.norm.sf(0.8):.2%} of the values are located')"
   ],
   "metadata": {
    "collapsed": false
   }
  },
  {
   "cell_type": "markdown",
   "source": [
    "__scipy.stats.norm.cdf(z2) - scipy.stats.norm.cdf(z1)__ - Finds how many % of the sample are located inside the given interval"
   ],
   "metadata": {
    "collapsed": false
   }
  },
  {
   "cell_type": "code",
   "execution_count": 86,
   "outputs": [
    {
     "name": "stdout",
     "output_type": "stream",
     "text": [
      "On the interval [-2sd; 0.8sd] 76.54% of the values are located\n"
     ]
    }
   ],
   "source": [
    "print(f'On the interval [-2sd; 0.8sd] {stats.norm.cdf(0.8)-stats.norm.cdf(-2):.2%} of the values are located')"
   ],
   "metadata": {
    "collapsed": false
   }
  },
  {
   "cell_type": "markdown",
   "source": [
    "__scipy.stats.norm.cdf(z1) + scipy.stats.norm.sf(z2)__ - Finds how many % of the sample are located outside the given interval"
   ],
   "metadata": {
    "collapsed": false
   }
  },
  {
   "cell_type": "code",
   "execution_count": 87,
   "outputs": [
    {
     "name": "stdout",
     "output_type": "stream",
     "text": [
      "On the interval [-inf; -2sd] and [0.8sd; +inf] 23.46% of the values are located\n"
     ]
    }
   ],
   "source": [
    "print(f'On the interval [-inf; -2sd] and [0.8sd; +inf] {stats.norm.cdf(-2)+stats.norm.sf(0.8):.2%} of the values are located')"
   ],
   "metadata": {
    "collapsed": false
   }
  },
  {
   "cell_type": "markdown",
   "source": [
    "#### _Example:_\n",
    " - Problem:\n",
    "  - we are given a distribution: [1, 2, 3, 4, 5, 6, 7]\n",
    "  - what percentage of values falls above 4.25?\n",
    " - Solution:\n",
    "  - calculate the mean, sd: $\\mu=4$, $\\sigma = 1$\n",
    "  - calculate the z-score of 4.25: $z_i=\\frac{x_i - \\mu}{\\sigma} = \\frac{4.25-4}{1} = 0.25$\n",
    "  - check the z-table or see below how to find it with python"
   ],
   "metadata": {
    "collapsed": false
   }
  },
  {
   "cell_type": "code",
   "execution_count": 88,
   "outputs": [
    {
     "data": {
      "text/plain": "0.4012936743170763"
     },
     "execution_count": 88,
     "metadata": {},
     "output_type": "execute_result"
    }
   ],
   "source": [
    "# function that takes standard deviation as input and returns the percentage of the values from distribution that lie AFTER this sd\n",
    "stats.norm.sf(0.25)"
   ],
   "metadata": {
    "collapsed": false
   }
  },
  {
   "cell_type": "code",
   "execution_count": 89,
   "outputs": [
    {
     "data": {
      "text/plain": "0.5987063256829237"
     },
     "execution_count": 89,
     "metadata": {},
     "output_type": "execute_result"
    }
   ],
   "source": [
    "# function that takes standard deviation as input and returns the percentage of the values from distribution that lie BEFORE this sd\n",
    "stats.norm.cdf(0.25)"
   ],
   "metadata": {
    "collapsed": false
   }
  },
  {
   "cell_type": "markdown",
   "source": [],
   "metadata": {
    "collapsed": false
   }
  },
  {
   "cell_type": "markdown",
   "source": [
    "#### _Example:_\n",
    " - find the outliers from the given dataset"
   ],
   "metadata": {
    "collapsed": false
   }
  },
  {
   "cell_type": "code",
   "execution_count": 90,
   "outputs": [],
   "source": [
    "# dataset\n",
    "df = [11, 10, 12, 14, 12, 15, 14, 13, 15, 102, 12, 14, 17, 19, 107, 10, 13, 12, 14, 12, 108, 12, 11, 14, 13, 15, 10, 15, 12, 10, 14, 13, 15, 10]"
   ],
   "metadata": {
    "collapsed": false
   }
  },
  {
   "cell_type": "code",
   "execution_count": 91,
   "outputs": [
    {
     "name": "stderr",
     "output_type": "stream",
     "text": [
      "/var/folders/qq/03jhx7pd7dj5zpb771243k3m0000gn/T/ipykernel_76291/85889297.py:7: UserWarning: Matplotlib is currently using module://matplotlib_inline.backend_inline, which is a non-GUI backend, so cannot show the figure.\n",
      "  fig.show()\n"
     ]
    },
    {
     "data": {
      "text/plain": "<Figure size 800x200 with 2 Axes>",
      "image/png": "[encoded data removed]"
     },
     "metadata": {},
     "output_type": "display_data"
    }
   ],
   "source": [
    "# plot the data\n",
    "fig, axes = plt.subplots(1, 2, figsize=(8,2))\n",
    "axes[0].set_title('Histogram')\n",
    "sns.histplot(df, ax=axes[0])\n",
    "axes[1].set_title('Boxplot')\n",
    "sns.boxplot(df, ax=axes[1])\n",
    "fig.show()"
   ],
   "metadata": {
    "collapsed": false
   }
  },
  {
   "cell_type": "code",
   "execution_count": 92,
   "outputs": [],
   "source": [
    "# finding outliers\n",
    "def detect_outliers(data):\n",
    "    outliers = []\n",
    "    threshold = 3 # define a threshold as 3 standard deviations from the mean\n",
    "    mean = np.mean(data) # mean of data values\n",
    "    std = np.std(data) # standard deviation using numpy\n",
    "\n",
    "    # going through each observation in our dataset\n",
    "    for i in data:\n",
    "        z_score = (i-mean)/std # calculating z_score\n",
    "        if np.abs(z_score) > threshold: # if absolute value of z_score larger than 3 (sd)\n",
    "            outliers.append(i) # add it to outliers list\n",
    "    return outliers"
   ],
   "metadata": {
    "collapsed": false
   }
  },
  {
   "cell_type": "code",
   "execution_count": 93,
   "outputs": [
    {
     "data": {
      "text/plain": "[102, 107, 108]"
     },
     "execution_count": 93,
     "metadata": {},
     "output_type": "execute_result"
    }
   ],
   "source": [
    "# print out our outliers\n",
    "detect_outliers(df)"
   ],
   "metadata": {
    "collapsed": false
   }
  },
  {
   "cell_type": "code",
   "execution_count": 94,
   "outputs": [
    {
     "name": "stdout",
     "output_type": "stream",
     "text": [
      "102 107 108 "
     ]
    }
   ],
   "source": [
    "# find outliers using IQR\n",
    "df = sorted(df) # sort dataset\n",
    "Q1, Q3 = np.percentile(df, [25, 75]) # find quartiles\n",
    "IQR = Q3 - Q1 # calculate IQR\n",
    "lower = Q1-1.5*IQR # lower fence\n",
    "upper = Q3+1.5*IQR # upper fence\n",
    "\n",
    "for i in df:\n",
    "    if i < lower or i > upper:\n",
    "        print(i, end=' ')"
   ],
   "metadata": {
    "collapsed": false
   }
  },
  {
   "cell_type": "markdown",
   "source": [
    "## Hypothesis Testing"
   ],
   "metadata": {
    "collapsed": false
   }
  },
  {
   "cell_type": "markdown",
   "source": [
    "__Null Hypothesis ($H_0$)__ - no significant differences between the sample mean and population mean. Two possibilities a re the same. The observed difference is due to a chance only."
   ],
   "metadata": {
    "collapsed": false
   }
  },
  {
   "cell_type": "markdown",
   "source": [
    "__Alternative Hypothesis ($H_1$)__ - there's significant deviation between the sample mean and population mean."
   ],
   "metadata": {
    "collapsed": false
   }
  },
  {
   "cell_type": "markdown",
   "source": [
    "__Type 1 Error__ - a fault when null hypothesis ($H_0$) is rejected, even though it is accurate (accepted alternative hypothesis ($H_1$), but null hypothesis ($H_0$) is correct) - 'False Positive'"
   ],
   "metadata": {
    "collapsed": false
   }
  },
  {
   "cell_type": "markdown",
   "source": [
    "__Type 2 Error__ - a fault when one fails to reject a null hypothesis that is actually false (accepted null hypothesis ($H_0$) when alternative hypothesis ($H_1$) is correct) 'False Negative'"
   ],
   "metadata": {
    "collapsed": false
   }
  },
  {
   "cell_type": "markdown",
   "source": [
    "__p-value__ - the probability of obtaining such or even greater deviation from the mean value, if $H_0$ is true. The smaller _p_, the more reason to reject $H_0$ and accept $H_1$."
   ],
   "metadata": {
    "collapsed": false
   }
  },
  {
   "cell_type": "markdown",
   "source": [
    "p <= 0.05 -> we reject the Null Hypothesis\n",
    "p > 0.05 -> we reject the Alternative Hypothesys"
   ],
   "metadata": {
    "collapsed": false
   }
  },
  {
   "cell_type": "markdown",
   "source": [
    "__Significance value__ - $\\alpha$ it is usually equal to $p$ and is 0.05"
   ],
   "metadata": {
    "collapsed": false
   }
  },
  {
   "cell_type": "markdown",
   "source": [
    "## Central Limit Theorem"
   ],
   "metadata": {
    "collapsed": false
   }
  },
  {
   "cell_type": "markdown",
   "source": [
    "__Point Estimate__ - the value of any statistic that estimates the value of a parameter ($\\bar{x} \\rightarrow \\mu$)"
   ],
   "metadata": {
    "collapsed": false
   }
  },
  {
   "cell_type": "markdown",
   "source": [
    "__Central Limit Theorem__ - within repeated experiment, selective observation means are symmetrically distributed around the population mean, and the standard deviation of such distribution of sample means is the _standard mean error_"
   ],
   "metadata": {
    "collapsed": false
   }
  },
  {
   "cell_type": "markdown",
   "source": [
    "__Standard Error (standard mean error)__ - is the standard deviation of its sampling distribution (an estimate of that standard deviation) (usually for $n \\ge 30$)\n",
    "$$se = \\frac{\\sigma}{\\sqrt{n}}$$"
   ],
   "metadata": {
    "collapsed": false
   }
  },
  {
   "cell_type": "markdown",
   "source": [
    "## Z-Test"
   ],
   "metadata": {
    "collapsed": false
   }
  },
  {
   "cell_type": "markdown",
   "source": [
    "__z-test__ - statistical hypothesis testing technique which is used to test the Null Hypothesis in relation to the following given that the _population standard deviation_ is known and data is normally distributed"
   ],
   "metadata": {
    "collapsed": false
   }
  },
  {
   "cell_type": "markdown",
   "source": [
    "__One-sample z-test for means__ - check that there's no difference between the sample and the population (or the diff is not significant). Here, the sample mean is compared against the population mean:\n",
    "1) Find by how many standard deviations (the value of $z$) the experimental sample mean differs from the estimated population mean:\n",
    "$$z=\\frac{\\bar{x}-\\mu}{se}=\\frac{\\bar{x}-\\mu}{\\frac{\\sigma}{\\sqrt{n}}}$$\n",
    "2) Determine what percentage of values are in interval $[-\\infty; -z]\\cup[z;+\\infty]$ (it is a _p-value_)*\n",
    "3) If _p-value_ < 0.05 we accept $H_1$ (or $z>1.96, x<-1.96 $), so we found a statistically significant deviation\n",
    "\n",
    "\\* - p-value (area) found from the z-table according to the z value found (1-cdf(z))"
   ],
   "metadata": {
    "collapsed": false
   }
  },
  {
   "cell_type": "markdown",
   "source": [
    "__Two-sample z-test for means__ - check that there's no difference between the two populations (or the diff is not significant):\n",
    "$$z_2 = \\frac{(\\bar{x}_1-\\bar{x}_2)-(\\mu_1-\\mu_2)}{\\sqrt{\\frac{\\sigma_1^2}{n_1} + \\frac{\\sigma_2^2}{n_2}}}$$"
   ],
   "metadata": {
    "collapsed": false
   }
  },
  {
   "cell_type": "code",
   "execution_count": 95,
   "outputs": [
    {
     "name": "stdout",
     "output_type": "stream",
     "text": [
      "p = 0.0013742758758317208\n"
     ]
    }
   ],
   "source": [
    "# calculate p-value for normal distribution.\n",
    "'''\n",
    "x_mean - sample mean\n",
    "M_mean - population mean\n",
    "sd - population standard deviation\n",
    "n - number of observations in the sample\n",
    "'''\n",
    "\n",
    "def calc_pvalue_norm(M_mean, x_mean, sd, n):\n",
    "    se = sd/(n**(1/2)) # standard error\n",
    "    z = abs((x_mean-M_mean)/se) # z-score\n",
    "    p = (1 - stats.norm.cdf(z))*2\n",
    "    return p\n",
    "print(f'p = {calc_pvalue_norm(102, 98, 10, 64)}')"
   ],
   "metadata": {
    "collapsed": false
   }
  },
  {
   "cell_type": "markdown",
   "source": [
    "__Confidence Interval__ - is a range of estimates for a parameter. It is computed at a designated _confidence level_, which is commonly 95%:\n",
    " - Confidence Interval = Point Estimate $\\pm$ Margin of Error:\n",
    "$$\\bar{x} \\pm z_{\\alpha/2}\\frac{\\sigma}{\\sqrt{n}}$$"
   ],
   "metadata": {
    "collapsed": false
   }
  },
  {
   "cell_type": "markdown",
   "source": [
    "__95% Confidence Interval__ - when $\\alpha = 0.05$ (which is common), then it equals:\n",
    "$$\\bar{x} \\pm 1.96\\sigma$$"
   ],
   "metadata": {
    "collapsed": false
   }
  },
  {
   "cell_type": "markdown",
   "source": [
    "__99% Confidence Interval__ - when $\\alpha = 0.01$, then it equals:\n",
    "$$\\bar{x} \\pm 2.58\\sigma$$"
   ],
   "metadata": {
    "collapsed": false
   }
  },
  {
   "cell_type": "code",
   "execution_count": 96,
   "outputs": [
    {
     "name": "stdout",
     "output_type": "stream",
     "text": [
      "Mean confidence interval = [6.216; 7.784]\n"
     ]
    }
   ],
   "source": [
    "# find the confidence interval\n",
    "'''\n",
    "M_mean - population mean\n",
    "sd - sample standard deviation\n",
    "n - number of values in the sample\n",
    "accuracy - interval accuracy (95 or 99)\n",
    "'''\n",
    "def conf_interval_norm(M_mean, sd, n, accuracy):\n",
    "    se = sd/(n**(1/2)) # sample standard error\n",
    "    if accuracy == 95:\n",
    "        di_1 = M_mean - se*1.96\n",
    "        di_2 = M_mean + se*1.96\n",
    "        print(f'Mean confidence interval = [{di_1}; {di_2}]')\n",
    "    elif accuracy == 99:\n",
    "        di_1 = M_mean - se*2.58\n",
    "        di_2 = M_mean + se*2.58\n",
    "        print(f'Mean confidence interval = [{di_1}; {di_2}]')\n",
    "\n",
    "conf_interval_norm(7, 4, 100, 95)"
   ],
   "metadata": {
    "collapsed": false
   }
  },
  {
   "cell_type": "markdown",
   "source": [
    "## Comparing Means"
   ],
   "metadata": {
    "collapsed": false
   }
  },
  {
   "cell_type": "markdown",
   "source": [
    "## T-Test"
   ],
   "metadata": {
    "collapsed": false
   }
  },
  {
   "cell_type": "markdown",
   "source": [
    "__t-test__ - is used when the _population standard deviation_ is unknown (we have only sample sd ($s$)), the data belongs to normal distribution and sample size is small (<30).\n",
    "$$\\bar{x} \\pm t_{\\alpha/2}\\frac{s}{\\sqrt{n}}$$"
   ],
   "metadata": {
    "collapsed": false
   }
  },
  {
   "cell_type": "markdown",
   "source": [
    "__Conditions for t-test__:\n",
    " - Independence of observations\n",
    " - Dispersion homogeneity (dispersions of the samples are equal (Fisher's test))\n",
    " - Normal distribution of the sample\n",
    " - Sample size < 30"
   ],
   "metadata": {
    "collapsed": false
   }
  },
  {
   "cell_type": "markdown",
   "source": [
    "__Student's distribution__ - the shape of the distribution is determined by the number of _degrees of freedom_. As the _degrees of freedom_ increase, the distribution tends to _normal_\n",
    "$$df = n-1$$"
   ],
   "metadata": {
    "collapsed": false
   }
  },
  {
   "cell_type": "markdown",
   "source": [
    "__One-Sample t-test__ - check that there's no difference between the sample and the population when the _population sd_ is unknown or sample size is <30:\n",
    "$$t=\\frac{\\bar{x}-\\mu}{\\frac{s}{\\sqrt{n}}}$$"
   ],
   "metadata": {
    "collapsed": false
   }
  },
  {
   "cell_type": "code",
   "execution_count": 97,
   "outputs": [
    {
     "name": "stdout",
     "output_type": "stream",
     "text": [
      "p-value = 0.0569398499365914\n",
      "Confidence Interval For Mean: [9.174440575348791; 10.825559424651209]\n"
     ]
    }
   ],
   "source": [
    "# finding p-value and confidence intervals for Student's distribution\n",
    "'''\n",
    "x_mean - sample mean\n",
    "M_mean - population mean\n",
    "sd - sample standard deviation\n",
    "n - number of values in the sample\n",
    "accuracy - interval accuracy (95 or 99)\n",
    "'''\n",
    "\n",
    "def calc_pvalue_t(M_mean, x_mean, sd, n):\n",
    "    se = sd/(n**(1/2)) # sample standard error\n",
    "    t = abs((x_mean - M_mean)/se) # t-test\n",
    "    df = n-1 # degrees of freedom\n",
    "    p = (1 - stats.t.cdf(t, df))*2 # p-value\n",
    "    return p\n",
    "\n",
    "def conf_interval_t(M_mean, sd, n, accuracy):\n",
    "    se = sd/(n**(1/2)) # sample standard error\n",
    "    df = n-1 # degrees of freedom\n",
    "    if accuracy == 95:\n",
    "        di_1 = M_mean - se*stats.t.ppf(0.975, df)\n",
    "        di_2 = M_mean + se*stats.t.ppf(0.975, df)\n",
    "        print(f'Confidence Interval For Mean: [{di_1}; {di_2}]')\n",
    "    elif accuracy == 99:\n",
    "        di_1 = M_mean - se*stats.t.ppf(0.995, df)\n",
    "        di_2 = M_mean + se*stats.t.ppf(0.995, df)\n",
    "        print(f'Confidence Interval For Mean: [{di_1}; {di_2}]')\n",
    "\n",
    "print(f'p-value = {calc_pvalue_t(10, 10.8, 2, 25)}')\n",
    "conf_interval_t(10, 2, 25, 95)"
   ],
   "metadata": {
    "collapsed": false
   }
  },
  {
   "cell_type": "markdown",
   "source": [
    "__Two-Sample t-test__ - to check the difference between the means of two groups (samples):\n",
    "$$t_2 = \\frac{\\bar{x}_1-\\bar{x}_2}{\\sqrt{\\frac{s_1^2}{n_1} + \\frac{s_2^2}{n_2}}}$$"
   ],
   "metadata": {
    "collapsed": false
   }
  },
  {
   "cell_type": "code",
   "execution_count": 98,
   "outputs": [
    {
     "name": "stdout",
     "output_type": "stream",
     "text": [
      "p-value between two samples = 0.015693530077100393\n"
     ]
    }
   ],
   "source": [
    "# calculate p-value for two-sample t-test comparing two means from two separate samples\n",
    "'''\n",
    "x1_mean - 1st sample mean\n",
    "x2_mean - 2nd sample mean\n",
    "sd1 - 1st sample standard deviation\n",
    "sd2 - 2nd sample standard deviation\n",
    "n1 - number of values in the 1st sample\n",
    "n2 - number of values in the 2nd sample\n",
    "'''\n",
    "def calc_pvalue_t2(x1_mean, x2_mean, sd1, sd2, n1, n2):\n",
    "    se = math.sqrt(sd1**2/n1 + sd2**2/n2)\n",
    "    t = abs((x1_mean-x2_mean)/se)\n",
    "    df = n1 + n2 - 2\n",
    "    p = (1 - stats.t.cdf(t, df))*2\n",
    "    return p\n",
    "\n",
    "print(f'p-value between two samples = {calc_pvalue_t2(89.9, 80.7, 11.3, 11.7, 20, 20)}')"
   ],
   "metadata": {
    "collapsed": false
   }
  },
  {
   "cell_type": "markdown",
   "source": [
    "_The difference between z-test and t-test formulas only in the way how standard deviation for sample ($s$) and population ($\\sigma$) is calculated ($n-1$ and $N$ respectively)_"
   ],
   "metadata": {
    "collapsed": false
   }
  },
  {
   "cell_type": "markdown",
   "source": [
    "## ANOVA"
   ],
   "metadata": {
    "collapsed": false
   }
  },
  {
   "cell_type": "markdown",
   "source": [
    "__One-Way ANalysis Of VAriance (ANOVA)__ - is used to test the difference between two or more means\n",
    " $$H_0: M_1 = M_2 = ... = M_i$$\n",
    " $$H_0: !(M_1 = M_2 = ... = M_i)$$\n"
   ],
   "metadata": {
    "collapsed": false
   }
  },
  {
   "cell_type": "markdown",
   "source": [
    "__$SS_{total}$__ - total sum of squares - the sum of the so-called \"within-group\" sum of squares and \"between-group\" sum of squares:\n",
    "$$SS_{total}=\\sum(x_{ij}-M)^2 = SS_{BG} + SS_{WG}$$\n",
    "$$SS_{BG} = \\sum n(M_j-M)^2$$\n",
    "$$SS_{WG}=\\sum(x_{ij}-M_{ij})^2$$\n",
    "$\\text{where } n - \\text{number of items in each group}$"
   ],
   "metadata": {
    "collapsed": false
   }
  },
  {
   "cell_type": "markdown",
   "source": [
    "__Between-group variability__ - average \"between-group\" sum of squares:\n",
    "$$MS_{BG} = \\frac{SS_{BG}}{df_{BG}}, \\qquad df_{BG} = m - 1$$"
   ],
   "metadata": {
    "collapsed": false
   }
  },
  {
   "cell_type": "markdown",
   "source": [
    "__Within-group variability__ - average \"within-group\" sum of squares:\n",
    "$$MS_{WG} = \\frac{SS_{WG}}{df_{WG}}, \\qquad df_{WG} = N - m$$\n",
    "where:\n",
    " $N$ - total number of observations\n",
    " $m$ - number of groups"
   ],
   "metadata": {
    "collapsed": false
   }
  },
  {
   "cell_type": "markdown",
   "source": [
    "__Fisher criterion (F-test)__ is a discriminant criterion function that is defined by the ratio of the between-class scatter to the within-class scatter:\n",
    "$$F= \\frac{\\text{between-group variability}}{\\text{within-group variability}}$$\n",
    "$$F = \\frac{MS_{BG}}{MS_{WG}}$$\n",
    "$$F = \\frac{(SS_{BG} / (m-1))}{(SS_{WG} / (N-m))}$$"
   ],
   "metadata": {
    "collapsed": false
   }
  },
  {
   "cell_type": "markdown",
   "source": [
    "__An F statistic__ is a value you get when you run an ANOVA test or a regression analysis to find out if the means between three or more populations are significantly different.\n",
    " - It’s similar to a T statistic from a t-test;\n",
    " - A t-test will tell you if a single variable is statistically significant and an F test will tell you if the groups of variables are jointly significant."
   ],
   "metadata": {
    "collapsed": false
   }
  },
  {
   "cell_type": "code",
   "execution_count": 99,
   "outputs": [
    {
     "data": {
      "text/plain": "   weight group\n1    4.17  ctrl\n2    5.58  ctrl\n3    5.18  ctrl\n4    6.11  ctrl\n5    4.50  ctrl",
      "text/html": "<div>\n<style scoped>\n    .dataframe tbody tr th:only-of-type {\n        vertical-align: middle;\n    }\n\n    .dataframe tbody tr th {\n        vertical-align: top;\n    }\n\n    .dataframe thead th {\n        text-align: right;\n    }\n</style>\n<table border=\"1\" class=\"dataframe\">\n  <thead>\n    <tr style=\"text-align: right;\">\n      <th></th>\n      <th>weight</th>\n      <th>group</th>\n    </tr>\n  </thead>\n  <tbody>\n    <tr>\n      <th>1</th>\n      <td>4.17</td>\n      <td>ctrl</td>\n    </tr>\n    <tr>\n      <th>2</th>\n      <td>5.58</td>\n      <td>ctrl</td>\n    </tr>\n    <tr>\n      <th>3</th>\n      <td>5.18</td>\n      <td>ctrl</td>\n    </tr>\n    <tr>\n      <th>4</th>\n      <td>6.11</td>\n      <td>ctrl</td>\n    </tr>\n    <tr>\n      <th>5</th>\n      <td>4.50</td>\n      <td>ctrl</td>\n    </tr>\n  </tbody>\n</table>\n</div>"
     },
     "execution_count": 99,
     "metadata": {},
     "output_type": "execute_result"
    }
   ],
   "source": [
    "# ANOVA test in pure python\n",
    "data = pd.read_csv('https://vincentarelbundock.github.io/Rdatasets/csv/datasets/PlantGrowth.csv', index_col=0)\n",
    "data.head()"
   ],
   "metadata": {
    "collapsed": false
   }
  },
  {
   "cell_type": "code",
   "execution_count": 100,
   "outputs": [
    {
     "data": {
      "text/plain": "<AxesSubplot: xlabel='group', ylabel='weight'>"
     },
     "execution_count": 100,
     "metadata": {},
     "output_type": "execute_result"
    },
    {
     "data": {
      "text/plain": "<Figure size 300x200 with 1 Axes>",
      "image/png": "[encoded data removed]"
     },
     "metadata": {},
     "output_type": "display_data"
    }
   ],
   "source": [
    "sns.boxplot(data=data, x='group', y='weight')"
   ],
   "metadata": {
    "collapsed": false
   }
  },
  {
   "cell_type": "code",
   "execution_count": 101,
   "outputs": [],
   "source": [
    "k = len(pd.unique(data.group)) # number of conditions\n",
    "N = len(data.values) # conditions times participants\n",
    "n = data.groupby('group').size()[0] # participants in each group\n",
    "\n",
    "DF_bg = k-1\n",
    "DF_wg = N-k\n",
    "DF_total = N-1"
   ],
   "metadata": {
    "collapsed": false
   }
  },
  {
   "cell_type": "code",
   "execution_count": 102,
   "outputs": [
    {
     "name": "stdout",
     "output_type": "stream",
     "text": [
      "F = 4.846087862380118, p = 0.015909958325623124\n"
     ]
    }
   ],
   "source": [
    "# calculate sum of squares between groups\n",
    "SS_bg = (sum(data.groupby('group').sum()['weight']**2)/n) - (data['weight'].sum()**2)/N\n",
    "\n",
    "# sum of squares within\n",
    "sum_y_squared = sum([value**2 for value in data['weight'].values])\n",
    "SS_wg = sum_y_squared - sum(data.groupby('group').sum()['weight']**2)/n\n",
    "\n",
    "# sum of squares total\n",
    "SS_total = sum_y_squared - (data['weight'].sum()**2)/N\n",
    "\n",
    "# mean square between groups\n",
    "ms_bg = SS_bg/DF_bg\n",
    "\n",
    "# mean squares within groups\n",
    "ms_wg = SS_wg/DF_wg\n",
    "\n",
    "# calculating F-value\n",
    "F = ms_bg/ms_wg\n",
    "\n",
    "# calculating p-value\n",
    "p = stats.f.sf(F, DF_bg, DF_wg)\n",
    "\n",
    "print(f'F = {F}, p = {p}')"
   ],
   "metadata": {
    "collapsed": false
   }
  },
  {
   "cell_type": "code",
   "execution_count": 103,
   "outputs": [
    {
     "data": {
      "text/plain": "            sum_sq    df         F   PR(>F)\ngroup      3.76634   2.0  4.846088  0.01591\nResidual  10.49209  27.0       NaN      NaN",
      "text/html": "<div>\n<style scoped>\n    .dataframe tbody tr th:only-of-type {\n        vertical-align: middle;\n    }\n\n    .dataframe tbody tr th {\n        vertical-align: top;\n    }\n\n    .dataframe thead th {\n        text-align: right;\n    }\n</style>\n<table border=\"1\" class=\"dataframe\">\n  <thead>\n    <tr style=\"text-align: right;\">\n      <th></th>\n      <th>sum_sq</th>\n      <th>df</th>\n      <th>F</th>\n      <th>PR(&gt;F)</th>\n    </tr>\n  </thead>\n  <tbody>\n    <tr>\n      <th>group</th>\n      <td>3.76634</td>\n      <td>2.0</td>\n      <td>4.846088</td>\n      <td>0.01591</td>\n    </tr>\n    <tr>\n      <th>Residual</th>\n      <td>10.49209</td>\n      <td>27.0</td>\n      <td>NaN</td>\n      <td>NaN</td>\n    </tr>\n  </tbody>\n</table>\n</div>"
     },
     "execution_count": 103,
     "metadata": {},
     "output_type": "execute_result"
    }
   ],
   "source": [
    "# the same ANOVA with Statsmodels\n",
    "import statsmodels.api as sm\n",
    "from statsmodels.formula.api import ols\n",
    "\n",
    "mod = ols('weight ~ group', data=data).fit() # set up the model\n",
    "aov_table = sm.stats.anova_lm(mod, typ=2)\n",
    "\n",
    "aov_table"
   ],
   "metadata": {
    "collapsed": false
   }
  },
  {
   "cell_type": "markdown",
   "source": [
    "The hypothesis that the means of a given set of normally distributed populations, all having the same standard deviation, are equal. This is perhaps the best-known F-test, and plays an important role in the analysis of variance (ANOVA)."
   ],
   "metadata": {
    "collapsed": false
   }
  },
  {
   "cell_type": "code",
   "execution_count": 104,
   "outputs": [
    {
     "data": {
      "text/plain": "0.008000000000000002"
     },
     "execution_count": 104,
     "metadata": {},
     "output_type": "execute_result"
    }
   ],
   "source": [
    "# calculate p-value for Fisher distribution\n",
    "\n",
    "# assume we have 3 groups\n",
    "data = [[3, 1, 2],\n",
    "        [5, 3, 4],\n",
    "        [7, 6, 5]]\n",
    "\n",
    "def calc_pvalue_f(array):\n",
    "    ss_wg = 0\n",
    "    x_sum = 0\n",
    "    N = 0\n",
    "    for group in array:\n",
    "        x_sum += sum(group)\n",
    "        N += len(group)\n",
    "        for i in group:\n",
    "            ss_wg += (i - sum(group)/len(group))**2\n",
    "    x_mean = x_sum / N\n",
    "    ss_bg = 0\n",
    "\n",
    "    for group in array:\n",
    "        ss_bg += len(group)*(sum(group)/len(group) - x_mean)**2\n",
    "\n",
    "    m = len(array)\n",
    "    F = (ss_bg/(m-1))/(ss_wg/(N-m))\n",
    "    p = stats.f.sf(F, (m-1), (N-m))\n",
    "    return p\n",
    "\n",
    "calc_pvalue_f(data)"
   ],
   "metadata": {
    "collapsed": false
   }
  },
  {
   "cell_type": "markdown",
   "source": [
    "If _p-value_ in f-test is less than 0.05 (p < 0.05) we fail to reject the $H_0$, then we say that means are equal.\n",
    "If _p-value_ in f-test is larger than 0.05, then we reject the Null hypothesis ($H_0:$ no difference in group means) => there are significant differences in group means.\n",
    "However, we can't say _what_ groups are different and how much.\n",
    "\n",
    "To understand this we need to perform pairwise comparison of group means - using _Bonferroni correction_ and _Tukey's test_"
   ],
   "metadata": {
    "collapsed": false
   }
  },
  {
   "cell_type": "markdown",
   "source": [
    "__Bonferroni correction__ - is a method to counteract the 'multiple comparisons' problem (high probability to get type I error - get false significant differences due to high number of groups).\n",
    " P-value here is being corrected by the number of all groups combinations:\n",
    "$$C^2_m= \\frac{m!}{(2!*(m-2)!)}=\\frac{m(m-1)}{2}$$\n",
    "So, the _p-value_ with Bonferroni correction equals:\n",
    "$$\\alpha=\\frac{p}{C^2_m}$$\n",
    "Bonferroni is too conservative for large number of groups"
   ],
   "metadata": {
    "collapsed": false
   }
  },
  {
   "cell_type": "markdown",
   "source": [
    "__Tukey HSD (honestly significant difference)__ - is a single-step multiple comparison procedure and statistical test. It can be used to find means that are significantly different from each other by comparing group means pairwise:\n",
    "$$q=\\frac{\\bar{X_A}-\\bar{X_B}}{SE}$$\n",
    "where $SE$ is the standard error of the sum of the means.\n",
    "$$SE = \\sqrt{MS_{WG}/m}$$\n",
    "In fact, Tukey's test is essentially a t-test, except that it corrects for family-wise error rate.\n"
   ],
   "metadata": {
    "collapsed": false
   }
  },
  {
   "cell_type": "code",
   "execution_count": 105,
   "outputs": [
    {
     "data": {
      "text/plain": "<class 'statsmodels.iolib.table.SimpleTable'>",
      "text/html": "<table class=\"simpletable\">\n<caption>Multiple Comparison of Means - Tukey HSD, FWER=0.05</caption>\n<tr>\n  <th>group1</th> <th>group2</th> <th>meandiff</th>  <th>p-adj</th>  <th>lower</th>   <th>upper</th> <th>reject</th>\n</tr>\n<tr>\n     <td>A</td>      <td>B</td>    <td>-2.3333</td> <td>0.0916</td> <td>-5.103</td>  <td>0.4363</td>  <td>False</td>\n</tr>\n<tr>\n     <td>A</td>      <td>C</td>    <td>-0.6667</td> <td>0.7511</td> <td>-3.4363</td>  <td>2.103</td>  <td>False</td>\n</tr>\n<tr>\n     <td>B</td>      <td>C</td>    <td>1.6667</td>  <td>0.2339</td> <td>-1.103</td>  <td>4.4363</td>  <td>False</td>\n</tr>\n</table>"
     },
     "execution_count": 105,
     "metadata": {},
     "output_type": "execute_result"
    }
   ],
   "source": [
    "from statsmodels.stats.multicomp import pairwise_tukeyhsd, MultiComparison\n",
    "groups = pd.DataFrame({'Values':[5, 1, 2, 3, 4, 2, 5, 3, 2], 'Groups':['A','B','C', 'A', 'A', 'B', 'C', 'C', 'B']})\n",
    "multi_comp = MultiComparison(groups.Values, groups.Groups)\n",
    "multi_comp.tukeyhsd().summary()"
   ],
   "metadata": {
    "collapsed": false
   }
  },
  {
   "cell_type": "markdown",
   "source": [
    "## Two-Way ANOVA"
   ],
   "metadata": {
    "collapsed": false
   }
  },
  {
   "cell_type": "markdown",
   "source": [
    "__Two-Way ANOVA__ - examines the influence of two different categorical independent variables on one continuous dependent variable. The two-way ANOVA not only aims at assessing the main effect of each independent variable but also if there is any interaction between them.\n",
    "$$SS_{total} = SS_{WG} + SS_{BGa} + SS_{BGb} + SS_{BGa}*SS_{BGb}$$"
   ],
   "metadata": {
    "collapsed": false
   }
  },
  {
   "cell_type": "code",
   "execution_count": 106,
   "outputs": [
    {
     "data": {
      "text/plain": "    len supp  dose\n1   4.2   VC   0.5\n2  11.5   VC   0.5\n3   7.3   VC   0.5\n4   5.8   VC   0.5\n5   6.4   VC   0.5",
      "text/html": "<div>\n<style scoped>\n    .dataframe tbody tr th:only-of-type {\n        vertical-align: middle;\n    }\n\n    .dataframe tbody tr th {\n        vertical-align: top;\n    }\n\n    .dataframe thead th {\n        text-align: right;\n    }\n</style>\n<table border=\"1\" class=\"dataframe\">\n  <thead>\n    <tr style=\"text-align: right;\">\n      <th></th>\n      <th>len</th>\n      <th>supp</th>\n      <th>dose</th>\n    </tr>\n  </thead>\n  <tbody>\n    <tr>\n      <th>1</th>\n      <td>4.2</td>\n      <td>VC</td>\n      <td>0.5</td>\n    </tr>\n    <tr>\n      <th>2</th>\n      <td>11.5</td>\n      <td>VC</td>\n      <td>0.5</td>\n    </tr>\n    <tr>\n      <th>3</th>\n      <td>7.3</td>\n      <td>VC</td>\n      <td>0.5</td>\n    </tr>\n    <tr>\n      <th>4</th>\n      <td>5.8</td>\n      <td>VC</td>\n      <td>0.5</td>\n    </tr>\n    <tr>\n      <th>5</th>\n      <td>6.4</td>\n      <td>VC</td>\n      <td>0.5</td>\n    </tr>\n  </tbody>\n</table>\n</div>"
     },
     "execution_count": 106,
     "metadata": {},
     "output_type": "execute_result"
    }
   ],
   "source": [
    "# perform two-way ANOVA from scratch\n",
    "data = pd.read_csv('https://vincentarelbundock.github.io/Rdatasets/csv/datasets/ToothGrowth.csv', index_col=[0])\n",
    "\n",
    "# Here we have a data with one dependent variable ('len') and two independent factors ('supp' and 'dose').\n",
    "# With 2-way ANOVA we'll test the effect of the two factors on our dependent variable as well as the interaction between these factors\n",
    "data.head()"
   ],
   "metadata": {
    "collapsed": false
   }
  },
  {
   "cell_type": "code",
   "execution_count": 107,
   "outputs": [
    {
     "data": {
      "text/plain": "<AxesSubplot: xlabel='dose', ylabel='len'>"
     },
     "execution_count": 107,
     "metadata": {},
     "output_type": "execute_result"
    },
    {
     "data": {
      "text/plain": "<Figure size 300x200 with 1 Axes>",
      "image/png": "[encoded data removed]"
     },
     "metadata": {},
     "output_type": "display_data"
    }
   ],
   "source": [
    "sns.lineplot(data=data, x='dose', y='len', hue='supp')"
   ],
   "metadata": {
    "collapsed": false
   }
  },
  {
   "cell_type": "code",
   "execution_count": 108,
   "outputs": [
    {
     "data": {
      "text/plain": "           df       sum_sq      mean_sq          F PR(&gt;F)\nsupp        1   205.350000   205.350000  15.571979  0.000231\ndose        2  2426.434333  1213.217167  91.999965       0.0\nsupp:dose   2   108.319000    54.159500   4.106991   0.02186\nResidual   54   712.106000    13.187148        NaN       NaN",
      "text/html": "<div>\n<style scoped>\n    .dataframe tbody tr th:only-of-type {\n        vertical-align: middle;\n    }\n\n    .dataframe tbody tr th {\n        vertical-align: top;\n    }\n\n    .dataframe thead th {\n        text-align: right;\n    }\n</style>\n<table border=\"1\" class=\"dataframe\">\n  <thead>\n    <tr style=\"text-align: right;\">\n      <th></th>\n      <th>df</th>\n      <th>sum_sq</th>\n      <th>mean_sq</th>\n      <th>F</th>\n      <th>PR(&amp;gt;F)</th>\n    </tr>\n  </thead>\n  <tbody>\n    <tr>\n      <th>supp</th>\n      <td>1</td>\n      <td>205.350000</td>\n      <td>205.350000</td>\n      <td>15.571979</td>\n      <td>0.000231</td>\n    </tr>\n    <tr>\n      <th>dose</th>\n      <td>2</td>\n      <td>2426.434333</td>\n      <td>1213.217167</td>\n      <td>91.999965</td>\n      <td>0.0</td>\n    </tr>\n    <tr>\n      <th>supp:dose</th>\n      <td>2</td>\n      <td>108.319000</td>\n      <td>54.159500</td>\n      <td>4.106991</td>\n      <td>0.02186</td>\n    </tr>\n    <tr>\n      <th>Residual</th>\n      <td>54</td>\n      <td>712.106000</td>\n      <td>13.187148</td>\n      <td>NaN</td>\n      <td>NaN</td>\n    </tr>\n  </tbody>\n</table>\n</div>"
     },
     "execution_count": 108,
     "metadata": {},
     "output_type": "execute_result"
    }
   ],
   "source": [
    "# find degrees of freedom\n",
    "N = len(data.len)\n",
    "df_a = len(data.supp.unique()) - 1 # degrees of freedom of 'supp' group\n",
    "df_b = len(data.dose.unique()) - 1 # degrees of freedom of 'dose' group\n",
    "df_axb = df_a * df_b # degrees of freedom of 'supp' x 'dose'\n",
    "df_w = N - (len(data.supp.unique())*len(data.dose.unique())) # degrees of freedom within groups\n",
    "\n",
    "# calculate sum of squares (SSt = SSa + SSb + SSaxb + SSwithin)\n",
    "\n",
    "# grand mean\n",
    "grand_mean = data['len'].mean() # the grand mean is the mean of all scores of 'len'\n",
    "\n",
    "# sum of squares of A group - 'supp'\n",
    "ssq_a = sum([(data[data.supp == supp].len.mean() - grand_mean)**2 for supp in data.supp]) # sum of squares of 'supp' by formula of ss\n",
    "\n",
    "# sum of squares of B group - 'dose'\n",
    "ssq_b = sum([(data[data.dose == dose].len.mean() - grand_mean)**2 for dose in data.dose]) # sum of squares of 'dose' by formula of ss\n",
    "\n",
    "# sum of squares total\n",
    "ssq_t = sum((data.len - grand_mean)**2) # total sum of squares\n",
    "\n",
    "# sum of squares within groups (error/residual)\n",
    "vc = data[data.supp == 'VC']\n",
    "oj = data[data.supp == 'OJ']\n",
    "vc_dose_means = [vc[vc.dose == d].len.mean() for d in vc.dose]\n",
    "oj_dose_means = [oj[oj.dose == d].len.mean() for d in oj.dose]\n",
    "ssq_w = sum((oj.len - oj_dose_means)**2) + sum((vc.len - vc_dose_means)**2)\n",
    "\n",
    "# sum of squares interaction (AxB)\n",
    "ssq_axb = ssq_t - ssq_a - ssq_b - ssq_w\n",
    "\n",
    "# calculation of the mean squares (for each factor, the interaction of the factors and within factors)\n",
    "\n",
    "# mean square A\n",
    "ms_a = ssq_a/df_a\n",
    "\n",
    "# mean square B\n",
    "ms_b = ssq_b/df_b\n",
    "\n",
    "# mean square AxB\n",
    "ms_axb = ssq_axb/df_axb\n",
    "\n",
    "# mean square within\n",
    "ms_w = ssq_w/df_w\n",
    "\n",
    "# Calculate F-statistic - the mean square of each factor and interaction divided by the mean square for within\n",
    "f_a = ms_a/ms_w\n",
    "f_b = ms_b/ms_w\n",
    "f_axb = ms_axb/ms_w\n",
    "\n",
    "# Obtaining p-values (using scipy.stats.f.sf())\n",
    "p_a = stats.f.sf(f_a, df_a, df_w)\n",
    "p_b = stats.f.sf(f_b, df_b, df_w)\n",
    "p_axb = stats.f.sf(f_axb, df_axb, df_w)\n",
    "\n",
    "# Summarize all the results in a dataframe\n",
    "results = {'df':[df_a, df_b, df_axb, df_w],\n",
    "           'sum_sq':[ssq_a, ssq_b, ssq_axb, ssq_w],\n",
    "           'mean_sq':[ms_a, ms_b, ms_axb, ms_w],\n",
    "           'F': [f_a, f_b, f_axb, 'NaN'],\n",
    "           'PR(&gt;F)': [p_a, p_b, p_axb, 'NaN']}\n",
    "columns = ['df', 'sum_sq', 'mean_sq', 'F', 'PR(&gt;F)']\n",
    "aov_table1 = pd.DataFrame(results, columns=columns,\n",
    "                          index=['supp', 'dose', 'supp:dose', 'Residual'])\n",
    "\n",
    "\n",
    "aov_table1\n"
   ],
   "metadata": {
    "collapsed": false
   }
  },
  {
   "cell_type": "code",
   "execution_count": 109,
   "outputs": [
    {
     "data": {
      "text/plain": "                   df       sum_sq      mean_sq          F        PR(>F)\nC(supp)           1.0   205.350000   205.350000  15.571979  2.311828e-04\nC(dose)           2.0  2426.434333  1213.217167  91.999965  4.046291e-18\nC(supp):C(dose)   2.0   108.319000    54.159500   4.106991  2.186027e-02\nResidual         54.0   712.106000    13.187148        NaN           NaN",
      "text/html": "<div>\n<style scoped>\n    .dataframe tbody tr th:only-of-type {\n        vertical-align: middle;\n    }\n\n    .dataframe tbody tr th {\n        vertical-align: top;\n    }\n\n    .dataframe thead th {\n        text-align: right;\n    }\n</style>\n<table border=\"1\" class=\"dataframe\">\n  <thead>\n    <tr style=\"text-align: right;\">\n      <th></th>\n      <th>df</th>\n      <th>sum_sq</th>\n      <th>mean_sq</th>\n      <th>F</th>\n      <th>PR(&gt;F)</th>\n    </tr>\n  </thead>\n  <tbody>\n    <tr>\n      <th>C(supp)</th>\n      <td>1.0</td>\n      <td>205.350000</td>\n      <td>205.350000</td>\n      <td>15.571979</td>\n      <td>2.311828e-04</td>\n    </tr>\n    <tr>\n      <th>C(dose)</th>\n      <td>2.0</td>\n      <td>2426.434333</td>\n      <td>1213.217167</td>\n      <td>91.999965</td>\n      <td>4.046291e-18</td>\n    </tr>\n    <tr>\n      <th>C(supp):C(dose)</th>\n      <td>2.0</td>\n      <td>108.319000</td>\n      <td>54.159500</td>\n      <td>4.106991</td>\n      <td>2.186027e-02</td>\n    </tr>\n    <tr>\n      <th>Residual</th>\n      <td>54.0</td>\n      <td>712.106000</td>\n      <td>13.187148</td>\n      <td>NaN</td>\n      <td>NaN</td>\n    </tr>\n  </tbody>\n</table>\n</div>"
     },
     "execution_count": 109,
     "metadata": {},
     "output_type": "execute_result"
    }
   ],
   "source": [
    "# the same 2-way ANOVA using Statsmodels\n",
    "from statsmodels.formula.api import ols\n",
    "from statsmodels.stats.anova import anova_lm\n",
    "\n",
    "formula = 'len ~ C(supp) + C(dose) + C(supp):C(dose)'\n",
    "model = ols(formula, data).fit()\n",
    "aov_table2 = anova_lm(model, type=2)\n",
    "\n",
    "aov_table2"
   ],
   "metadata": {
    "collapsed": false
   }
  },
  {
   "cell_type": "markdown",
   "source": [
    "## Correlation"
   ],
   "metadata": {
    "collapsed": false
   }
  },
  {
   "cell_type": "markdown",
   "source": [
    "__Correlation__ - relationship between two factors. Can be positive, negative or close to zero"
   ],
   "metadata": {
    "collapsed": false
   }
  },
  {
   "cell_type": "markdown",
   "source": [
    "__Covariance__ - quantified relationship between variables (getting positive, negative value or zero):\n",
    "$$Cov(x, y) = \\sum_{i=1}^n\\frac{(x_i-\\bar{x})(y_i-\\bar{y})}{n-1}$$"
   ],
   "metadata": {
    "collapsed": false
   }
  },
  {
   "cell_type": "markdown",
   "source": [
    "__Pearson Correlation Coefficient__ - restricts the value of covariance between -1 to +1 (good for linear properties):\n",
    "$$r_{xy} = \\frac{Cov(x, y)}{\\sigma_x\\sigma_y}$$"
   ],
   "metadata": {
    "collapsed": false
   }
  },
  {
   "cell_type": "code",
   "execution_count": 110,
   "outputs": [
    {
     "name": "stdout",
     "output_type": "stream",
     "text": [
      "Correlation coefficient = -1.0\n"
     ]
    },
    {
     "data": {
      "text/plain": "<Figure size 300x200 with 1 Axes>",
      "image/png": "[encoded data removed]"
     },
     "metadata": {},
     "output_type": "display_data"
    }
   ],
   "source": [
    "# find the correlation coefficient\n",
    "array_x = [4, 5, 2, 3, 1]\n",
    "array_y = [2, 1, 4, 3, 5]\n",
    "\n",
    "r_xy = stats.pearsonr(array_x, array_y)[0] # it takes 2 arrays of one length & returns a tuple of Pearson's correlation coef and a p_value\n",
    "\n",
    "print(f'Correlation coefficient = {r_xy}')\n",
    "\n",
    "sns.scatterplot(x=array_x, y=array_y)\n",
    "plt.show()"
   ],
   "metadata": {
    "collapsed": false
   }
  },
  {
   "cell_type": "markdown",
   "source": [
    "__Pearson Correlation__ is used when relationship is linear and monotonic and the distribution is normal (with minnimum outliers)"
   ],
   "metadata": {
    "collapsed": false
   }
  },
  {
   "cell_type": "markdown",
   "source": [
    "When there are many outliers, it's better to try non-parametric analogs - _Spearman Correlation_ or _Kendall Correlation_"
   ],
   "metadata": {
    "collapsed": false
   }
  },
  {
   "cell_type": "markdown",
   "source": [
    "__Spearman Correlation__ - is a non-parametric measure of _rank correlation_. It is 1 when the two variables are monotonically related (even if not linear). It denotes the usual Pearson cc, but applied to the rank variables:\n",
    "$$r_s = \\frac{Cov(R(x),R(y))}{R\\sigma_xR\\sigma_y}$$"
   ],
   "metadata": {
    "collapsed": false
   }
  },
  {
   "cell_type": "markdown",
   "source": [
    "__Ranking Variables__ - assigning _rank_ to values (transform values as ranks from min to max)"
   ],
   "metadata": {
    "collapsed": false
   }
  },
  {
   "cell_type": "markdown",
   "source": [
    "## Simple Linear Regression"
   ],
   "metadata": {
    "collapsed": false
   }
  },
  {
   "cell_type": "markdown",
   "source": [
    "__Simple Linear Regression (One-Way Regression Analysis)__ - is used to analyse relationship of two continuous variables (dependent (criterio) and independent (predictor) variables) - shows how one variable predicts another one."
   ],
   "metadata": {
    "collapsed": false
   }
  },
  {
   "cell_type": "markdown",
   "source": [
    "__Regression Line__ - trend line, a single line that best fits the data, it is described by the linear formula:\n",
    "$$y = b_0 + b_1*x$$\n",
    "where:\n",
    " $b_1 = \\sigma_y / \\sigma_x * r_{xy}$ - slope\n",
    " $b_0 = \\bar{Y} - b_1 * \\bar{X}$ - intercept\n"
   ],
   "metadata": {
    "collapsed": false
   }
  },
  {
   "cell_type": "markdown",
   "source": [
    "__Least Square Method__ - the process of finding the best-fitting line of best fit for a set of data points by minimizing the sum of the squares of the residuals of the points from the line.\n",
    "The target is to find such $b_0$ and $b_1$ so that the regression line reflects the relationship of the variables as good as possible"
   ],
   "metadata": {
    "collapsed": false
   }
  },
  {
   "cell_type": "markdown",
   "source": [
    "__Coefficient of Determination $R^2$__ - is the proportion of the variation in the dependent variable that is predictable from the independent variable(s). Shows how much the variance of on variable explained by another variable(s):\n",
    "$$R^2 = 1- \\frac{SS_{res}}{SS_{total}}$$\n",
    "where:\n",
    " - $SS_{res}$ - sum of squares of residuals (sum of residual distances to regression line)\n",
    " - $SS_{total}$ - total sum of distances to mean line $y=\\bar{Y}$\n",
    "\n",
    "$R^2 = 1$ means that all the variability in the variable is explained by our regression model"
   ],
   "metadata": {
    "collapsed": false
   }
  },
  {
   "cell_type": "markdown",
   "source": [
    "__Conditions__ for Linear Regression:\n",
    " 1) __Linearity__ of $X$ and $Y$ - check: make a _scatter plot_. If not linear, then:\n",
    "    - apply _Tukey Ladder of Powers_ - exponentation of $X$\n",
    "    - _log transformation_ - take a log of $X$ or/and $Y$\n",
    "    - _Box-Cox transformation_\n",
    " 2) __Independence of Observations__\n",
    " 3) __Independence of Predictors__\n",
    " 4) __Normal Distribution of Residuals__ - check: _Q-Q plot_\n",
    " 5) __Homoscedasticity__ - equal variance of dependent variable on every level of independent variable (constant residual variance)\n",
    " 6) __Lack of perfect multicollinearity__ - no autocorrelation of resuduals"
   ],
   "metadata": {
    "collapsed": false
   }
  },
  {
   "cell_type": "code",
   "execution_count": 111,
   "outputs": [
    {
     "data": {
      "text/plain": "        state  metro_res  white  hs_grad  poverty  female_house\n0     Alabama       55.4   71.3     79.9     14.6          14.2\n1      Alaska       65.6   70.8     90.6      8.3          10.8\n2     Arizona       88.2   87.7     83.8     13.3          11.1\n3    Arkansas       52.5   81.0     80.9     18.0          12.1\n4  California       94.4   77.5     81.1     12.8          12.6",
      "text/html": "<div>\n<style scoped>\n    .dataframe tbody tr th:only-of-type {\n        vertical-align: middle;\n    }\n\n    .dataframe tbody tr th {\n        vertical-align: top;\n    }\n\n    .dataframe thead th {\n        text-align: right;\n    }\n</style>\n<table border=\"1\" class=\"dataframe\">\n  <thead>\n    <tr style=\"text-align: right;\">\n      <th></th>\n      <th>state</th>\n      <th>metro_res</th>\n      <th>white</th>\n      <th>hs_grad</th>\n      <th>poverty</th>\n      <th>female_house</th>\n    </tr>\n  </thead>\n  <tbody>\n    <tr>\n      <th>0</th>\n      <td>Alabama</td>\n      <td>55.4</td>\n      <td>71.3</td>\n      <td>79.9</td>\n      <td>14.6</td>\n      <td>14.2</td>\n    </tr>\n    <tr>\n      <th>1</th>\n      <td>Alaska</td>\n      <td>65.6</td>\n      <td>70.8</td>\n      <td>90.6</td>\n      <td>8.3</td>\n      <td>10.8</td>\n    </tr>\n    <tr>\n      <th>2</th>\n      <td>Arizona</td>\n      <td>88.2</td>\n      <td>87.7</td>\n      <td>83.8</td>\n      <td>13.3</td>\n      <td>11.1</td>\n    </tr>\n    <tr>\n      <th>3</th>\n      <td>Arkansas</td>\n      <td>52.5</td>\n      <td>81.0</td>\n      <td>80.9</td>\n      <td>18.0</td>\n      <td>12.1</td>\n    </tr>\n    <tr>\n      <th>4</th>\n      <td>California</td>\n      <td>94.4</td>\n      <td>77.5</td>\n      <td>81.1</td>\n      <td>12.8</td>\n      <td>12.6</td>\n    </tr>\n  </tbody>\n</table>\n</div>"
     },
     "execution_count": 111,
     "metadata": {},
     "output_type": "execute_result"
    }
   ],
   "source": [
    "# simple regression\n",
    "data_for_corr = pd.read_csv('https://stepik.org/media/attachments/lesson/8086/states.csv')\n",
    "data_for_corr.head()"
   ],
   "metadata": {
    "collapsed": false
   }
  },
  {
   "cell_type": "code",
   "execution_count": 112,
   "outputs": [
    {
     "data": {
      "text/plain": "<Figure size 300x200 with 1 Axes>",
      "image/png": "[encoded data removed]"
     },
     "metadata": {},
     "output_type": "display_data"
    }
   ],
   "source": [
    "# check the linearity between X and Y (predictor and dependent variable)\n",
    "sns.scatterplot(data_for_corr, x='hs_grad', y='poverty')\n",
    "plt.show()"
   ],
   "metadata": {
    "collapsed": false
   }
  },
  {
   "cell_type": "code",
   "execution_count": 113,
   "outputs": [
    {
     "name": "stdout",
     "output_type": "stream",
     "text": [
      "          N       Mean    St.Dev   Min   Max\n",
      "poverty  51  11.349020  3.099185   5.6  18.0\n",
      "hs_grad  51  86.011765  3.725998  77.2  92.1\n",
      "\n",
      "Correlation coefficient = -0.7468582531582505\n",
      "R-squared = 0.5577972503105934\n"
     ]
    }
   ],
   "source": [
    "# get the variables\n",
    "x_array = data_for_corr.hs_grad\n",
    "y_array = data_for_corr.poverty\n",
    "\n",
    "# calculate means\n",
    "x_mean = x_array.mean()\n",
    "y_mean = y_array.mean()\n",
    "\n",
    "# standard deviations\n",
    "x_sd = statistics.stdev(x_array)\n",
    "y_sd = statistics.stdev(y_array)\n",
    "\n",
    "# min and max values\n",
    "x_min = x_array.min()\n",
    "y_min = y_array.min()\n",
    "\n",
    "x_max = x_array.max()\n",
    "y_max = y_array.max()\n",
    "\n",
    "# calculate covariance and correlation coefficients\n",
    "N = len(data_for_corr)\n",
    "cov_xy = sum([(x_i - x_mean)*(y_i - y_mean) for x_i, y_i in zip(x_array, y_array)])/(N-1)\n",
    "r_xy = cov_xy/(x_sd*y_sd)\n",
    "# or r_xy = stats.pearsonr(x_array, y_array)\n",
    "\n",
    "# combine altogether in a table\n",
    "result = {'N': [N, N],\n",
    "          'Mean': [y_mean, x_mean],\n",
    "          'St.Dev': [y_sd, x_sd],\n",
    "          'Min': [y_min, x_min],\n",
    "          'Max': [y_max, x_max]}\n",
    "columns = ['N', 'Mean', 'St.Dev', 'Min', 'Max']\n",
    "result_table = pd.DataFrame(result, columns=columns, index=['poverty', 'hs_grad'])\n",
    "\n",
    "print(result_table)\n",
    "print(f'\\nCorrelation coefficient = {r_xy}')\n",
    "print(f'R-squared = {r_xy**2}')"
   ],
   "metadata": {
    "collapsed": false
   }
  },
  {
   "cell_type": "code",
   "execution_count": 114,
   "outputs": [
    {
     "name": "stdout",
     "output_type": "stream",
     "text": [
      "Intercept    64.780966\n",
      "hs_grad      -0.621217\n",
      "dtype: float64\n",
      "                            OLS Regression Results                            \n",
      "==============================================================================\n",
      "Dep. Variable:                poverty   R-squared:                       0.558\n",
      "Model:                            OLS   Adj. R-squared:                  0.549\n",
      "Method:                 Least Squares   F-statistic:                     61.81\n",
      "Date:                Fri, 02 Dec 2022   Prob (F-statistic):           3.11e-10\n",
      "Time:                        16:51:22   Log-Likelihood:                -108.74\n",
      "No. Observations:                  51   AIC:                             221.5\n",
      "Df Residuals:                      49   BIC:                             225.3\n",
      "Df Model:                           1                                         \n",
      "Covariance Type:            nonrobust                                         \n",
      "==============================================================================\n",
      "                 coef    std err          t      P>|t|      [0.025      0.975]\n",
      "------------------------------------------------------------------------------\n",
      "Intercept     64.7810      6.803      9.523      0.000      51.111      78.451\n",
      "hs_grad       -0.6212      0.079     -7.862      0.000      -0.780      -0.462\n",
      "==============================================================================\n",
      "Omnibus:                        3.534   Durbin-Watson:                   1.977\n",
      "Prob(Omnibus):                  0.171   Jarque-Bera (JB):                2.653\n",
      "Skew:                           0.540   Prob(JB):                        0.265\n",
      "Kurtosis:                       3.289   Cond. No.                     2.01e+03\n",
      "==============================================================================\n",
      "\n",
      "Notes:\n",
      "[1] Standard Errors assume that the covariance matrix of the errors is correctly specified.\n",
      "[2] The condition number is large, 2.01e+03. This might indicate that there are\n",
      "strong multicollinearity or other numerical problems.\n"
     ]
    }
   ],
   "source": [
    "# linear regression with statsmodels\n",
    "from statsmodels.formula.api import ols # ols - Ordinary Least Squares model\n",
    "model = ols('poverty ~ hs_grad', data=data_for_corr).fit()\n",
    "print(model.params)\n",
    "print(model.summary())"
   ],
   "metadata": {
    "collapsed": false
   }
  },
  {
   "cell_type": "code",
   "execution_count": 115,
   "outputs": [
    {
     "name": "stdout",
     "output_type": "stream",
     "text": [
      "y = 64.78 + (-0.62)x\n"
     ]
    },
    {
     "data": {
      "text/plain": "<Figure size 300x200 with 1 Axes>",
      "image/png": "[encoded data removed]"
     },
     "metadata": {},
     "output_type": "display_data"
    }
   ],
   "source": [
    "# plot a regression line\n",
    "b1 = y_sd / x_sd * r_xy\n",
    "b0 = y_mean - b1*x_mean\n",
    "\n",
    "print(f'y = {b0:.2f} + ({b1:.2f})x')\n",
    "\n",
    "x_values = np.linspace(x_min, x_max, 10) # an array from 10 values from 'x_min' to 'x_max'\n",
    "y_values = b0 + b1*x_values\n",
    "\n",
    "plt.plot(x_array, y_array, 'ob') # our data values\n",
    "plt.plot(x_values, y_values, 'r') # regression line\n",
    "plt.show()"
   ],
   "metadata": {
    "collapsed": false
   }
  },
  {
   "cell_type": "markdown",
   "source": [
    "__Conclusions:__\n",
    " - p-value < 0.05, so we reject Null Hypothesis that there's no relationship between 'poverty' and 'hs_grad'\n",
    " - In state where 'hs_grad' == 0 (theoretically), there will be 64.78% (b0, intercept) of people living in 'poverty'\n",
    " - With every 1% increase of 'hs_grad', the number of people in 'poverty' will decrease by 0.62% (b1)\n",
    " - About 56% ($R^2$) of variance of our dependent variable explained by our regression model (hs_grad)\n",
    " - Regression line $y = 64.78 - 0.62x$ allows to predict 'poverty' based on 'hs_grad'"
   ],
   "metadata": {
    "collapsed": false
   }
  },
  {
   "cell_type": "markdown",
   "source": [
    "## Multiple Linear Regression"
   ],
   "metadata": {
    "collapsed": false
   }
  },
  {
   "cell_type": "markdown",
   "source": [
    "__Multiple Linear Regression__ - allows to explore the influence of _several independent variables_ at once on one dependent variable:\n",
    "$$y = b_0 + b_1x_1 + b_2x_2 + ... + b_nx_n$$"
   ],
   "metadata": {
    "collapsed": false
   }
  },
  {
   "cell_type": "markdown",
   "source": [
    "__Adjusted $R^2$__ - corrected coefficient of determination. It is calculated when additional independent variables are included in the model"
   ],
   "metadata": {
    "collapsed": false
   }
  },
  {
   "cell_type": "code",
   "execution_count": 116,
   "outputs": [
    {
     "data": {
      "text/plain": "        state  metro_res  white  hs_grad  poverty  female_house\n0     Alabama       55.4   71.3     79.9     14.6          14.2\n1      Alaska       65.6   70.8     90.6      8.3          10.8\n2     Arizona       88.2   87.7     83.8     13.3          11.1\n3    Arkansas       52.5   81.0     80.9     18.0          12.1\n4  California       94.4   77.5     81.1     12.8          12.6",
      "text/html": "<div>\n<style scoped>\n    .dataframe tbody tr th:only-of-type {\n        vertical-align: middle;\n    }\n\n    .dataframe tbody tr th {\n        vertical-align: top;\n    }\n\n    .dataframe thead th {\n        text-align: right;\n    }\n</style>\n<table border=\"1\" class=\"dataframe\">\n  <thead>\n    <tr style=\"text-align: right;\">\n      <th></th>\n      <th>state</th>\n      <th>metro_res</th>\n      <th>white</th>\n      <th>hs_grad</th>\n      <th>poverty</th>\n      <th>female_house</th>\n    </tr>\n  </thead>\n  <tbody>\n    <tr>\n      <th>0</th>\n      <td>Alabama</td>\n      <td>55.4</td>\n      <td>71.3</td>\n      <td>79.9</td>\n      <td>14.6</td>\n      <td>14.2</td>\n    </tr>\n    <tr>\n      <th>1</th>\n      <td>Alaska</td>\n      <td>65.6</td>\n      <td>70.8</td>\n      <td>90.6</td>\n      <td>8.3</td>\n      <td>10.8</td>\n    </tr>\n    <tr>\n      <th>2</th>\n      <td>Arizona</td>\n      <td>88.2</td>\n      <td>87.7</td>\n      <td>83.8</td>\n      <td>13.3</td>\n      <td>11.1</td>\n    </tr>\n    <tr>\n      <th>3</th>\n      <td>Arkansas</td>\n      <td>52.5</td>\n      <td>81.0</td>\n      <td>80.9</td>\n      <td>18.0</td>\n      <td>12.1</td>\n    </tr>\n    <tr>\n      <th>4</th>\n      <td>California</td>\n      <td>94.4</td>\n      <td>77.5</td>\n      <td>81.1</td>\n      <td>12.8</td>\n      <td>12.6</td>\n    </tr>\n  </tbody>\n</table>\n</div>"
     },
     "execution_count": 116,
     "metadata": {},
     "output_type": "execute_result"
    }
   ],
   "source": [
    "data_for_corr.head()"
   ],
   "metadata": {
    "collapsed": false
   }
  },
  {
   "cell_type": "code",
   "execution_count": 117,
   "outputs": [
    {
     "name": "stdout",
     "output_type": "stream",
     "text": [
      "Intercept       66.476525\n",
      "metro_res       -0.056323\n",
      "white           -0.048144\n",
      "hs_grad         -0.554713\n",
      "female_house     0.050543\n",
      "dtype: float64\n",
      "                            OLS Regression Results                            \n",
      "==============================================================================\n",
      "Dep. Variable:                poverty   R-squared:                       0.642\n",
      "Model:                            OLS   Adj. R-squared:                  0.610\n",
      "Method:                 Least Squares   F-statistic:                     20.58\n",
      "Date:                Fri, 02 Dec 2022   Prob (F-statistic):           8.88e-10\n",
      "Time:                        16:51:22   Log-Likelihood:                -103.39\n",
      "No. Observations:                  51   AIC:                             216.8\n",
      "Df Residuals:                      46   BIC:                             226.4\n",
      "Df Model:                           4                                         \n",
      "Covariance Type:            nonrobust                                         \n",
      "================================================================================\n",
      "                   coef    std err          t      P>|t|      [0.025      0.975]\n",
      "--------------------------------------------------------------------------------\n",
      "Intercept       66.4765     12.590      5.280      0.000      41.134      91.819\n",
      "metro_res       -0.0563      0.020     -2.881      0.006      -0.096      -0.017\n",
      "white           -0.0481      0.033     -1.456      0.152      -0.115       0.018\n",
      "hs_grad         -0.5547      0.105     -5.288      0.000      -0.766      -0.344\n",
      "female_house     0.0505      0.243      0.208      0.836      -0.439       0.540\n",
      "==============================================================================\n",
      "Omnibus:                        3.254   Durbin-Watson:                   1.891\n",
      "Prob(Omnibus):                  0.197   Jarque-Bera (JB):                3.043\n",
      "Skew:                           0.585   Prob(JB):                        0.218\n",
      "Kurtosis:                       2.750   Cond. No.                     6.50e+03\n",
      "==============================================================================\n",
      "\n",
      "Notes:\n",
      "[1] Standard Errors assume that the covariance matrix of the errors is correctly specified.\n",
      "[2] The condition number is large, 6.5e+03. This might indicate that there are\n",
      "strong multicollinearity or other numerical problems.\n"
     ]
    }
   ],
   "source": [
    "# create a fitted model with all features\n",
    "lm = ols(formula='poverty ~ metro_res + white + hs_grad + female_house', data=data_for_corr).fit()\n",
    "\n",
    "# print the coefficients\n",
    "print(lm.params)\n",
    "\n",
    "# print a summary of the model\n",
    "print(lm.summary())"
   ],
   "metadata": {
    "collapsed": false
   }
  },
  {
   "cell_type": "code",
   "execution_count": 118,
   "outputs": [
    {
     "data": {
      "text/plain": "<Figure size 1800x400 with 4 Axes>",
      "image/png": "[encoded data removed]"
     },
     "metadata": {},
     "output_type": "display_data"
    }
   ],
   "source": [
    "# visualization\n",
    "fig, axes = plt.subplots(1, 4, sharey=False, figsize=(18, 4))\n",
    "sns.scatterplot(data_for_corr, x='poverty', y='hs_grad', ax=axes[0])\n",
    "sns.scatterplot(data_for_corr, x='poverty', y='white', ax=axes[1])\n",
    "sns.scatterplot(data_for_corr, x='poverty', y='female_house', ax=axes[2])\n",
    "sns.scatterplot(data_for_corr, x='poverty', y='metro_res', ax=axes[3])\n",
    "plt.show()"
   ],
   "metadata": {
    "collapsed": false
   }
  },
  {
   "cell_type": "markdown",
   "source": [
    "__Conclusions:__\n",
    " - Regression equation: 'poverty' = 66.4765 + (-0.0563)\\*'metro_res' + (-0.0481)\\*'white' + (-0.5547)\\*'hs_grad' + 0.0505\\*'female_house'\n",
    " - There will be about 66.5% of people living in poverty in the state where all the levels = 0\n",
    " - We got _p-value < 0.05_ only for 'metro_res' and 'hs_grad', so only these two variables have a significant relation with our dependent variable ('poverty')\n",
    " - 61% (Adj. $R^2$) of the 'poverty' variance explained by the model"
   ],
   "metadata": {
    "collapsed": false
   }
  },
  {
   "cell_type": "markdown",
   "source": [
    "__Conditions for Multiple Linear Regression__:\n",
    " 1) Linearity\n",
    " 2) Normal residuals distribution\n",
    " 3) Homoscedacity\n",
    " 4) Normal distribution of the variables\n",
    " 5) Check for Multicolinearity (remove one of the two variables that correlate heavily between each other)"
   ],
   "metadata": {
    "collapsed": false
   }
  },
  {
   "cell_type": "code",
   "execution_count": 119,
   "outputs": [
    {
     "name": "stderr",
     "output_type": "stream",
     "text": [
      "/var/folders/qq/03jhx7pd7dj5zpb771243k3m0000gn/T/ipykernel_76291/236607766.py:2: FutureWarning: The default value of numeric_only in DataFrame.corr is deprecated. In a future version, it will default to False. Select only valid columns or specify the value of numeric_only to silence this warning.\n",
      "  data_for_corr.corr()\n"
     ]
    },
    {
     "data": {
      "text/plain": "              metro_res     white   hs_grad   poverty  female_house\nmetro_res      1.000000 -0.342442  0.018110 -0.204235      0.300062\nwhite         -0.342442  1.000000  0.238156 -0.308520     -0.751394\nhs_grad        0.018110  0.238156  1.000000 -0.746858     -0.611867\npoverty       -0.204235 -0.308520 -0.746858  1.000000      0.525397\nfemale_house   0.300062 -0.751394 -0.611867  0.525397      1.000000",
      "text/html": "<div>\n<style scoped>\n    .dataframe tbody tr th:only-of-type {\n        vertical-align: middle;\n    }\n\n    .dataframe tbody tr th {\n        vertical-align: top;\n    }\n\n    .dataframe thead th {\n        text-align: right;\n    }\n</style>\n<table border=\"1\" class=\"dataframe\">\n  <thead>\n    <tr style=\"text-align: right;\">\n      <th></th>\n      <th>metro_res</th>\n      <th>white</th>\n      <th>hs_grad</th>\n      <th>poverty</th>\n      <th>female_house</th>\n    </tr>\n  </thead>\n  <tbody>\n    <tr>\n      <th>metro_res</th>\n      <td>1.000000</td>\n      <td>-0.342442</td>\n      <td>0.018110</td>\n      <td>-0.204235</td>\n      <td>0.300062</td>\n    </tr>\n    <tr>\n      <th>white</th>\n      <td>-0.342442</td>\n      <td>1.000000</td>\n      <td>0.238156</td>\n      <td>-0.308520</td>\n      <td>-0.751394</td>\n    </tr>\n    <tr>\n      <th>hs_grad</th>\n      <td>0.018110</td>\n      <td>0.238156</td>\n      <td>1.000000</td>\n      <td>-0.746858</td>\n      <td>-0.611867</td>\n    </tr>\n    <tr>\n      <th>poverty</th>\n      <td>-0.204235</td>\n      <td>-0.308520</td>\n      <td>-0.746858</td>\n      <td>1.000000</td>\n      <td>0.525397</td>\n    </tr>\n    <tr>\n      <th>female_house</th>\n      <td>0.300062</td>\n      <td>-0.751394</td>\n      <td>-0.611867</td>\n      <td>0.525397</td>\n      <td>1.000000</td>\n    </tr>\n  </tbody>\n</table>\n</div>"
     },
     "execution_count": 119,
     "metadata": {},
     "output_type": "execute_result"
    }
   ],
   "source": [
    "# check for multicolinearity\n",
    "data_for_corr.corr()"
   ],
   "metadata": {
    "collapsed": false
   }
  },
  {
   "cell_type": "markdown",
   "source": [
    "_We see in the table above that 'female_house' correlate with all the variables, so it's better to remove it from our model_"
   ],
   "metadata": {
    "collapsed": false
   }
  },
  {
   "cell_type": "code",
   "execution_count": 120,
   "outputs": [
    {
     "name": "stdout",
     "output_type": "stream",
     "text": [
      "0.5488 hs_grad\n",
      "0.5499 hs_grad+white+female_house\n",
      "0.1708 white+metro_res\n",
      "0.5582 hs_grad+white\n",
      "0.6011 hs_grad+metro_res+female_house\n",
      "0.6104 hs_grad+white+metro_res+female_house\n",
      "0.2613 female_house\n",
      "0.2637 white+female_house\n",
      "0.3869 white+metro_res+female_house\n",
      "0.5773 hs_grad+metro_res\n",
      "0.0767 white\n",
      "0.0222 metro_res\n",
      "0.6183 hs_grad+white+metro_res\n",
      "0.5472 hs_grad+female_house\n",
      "0.3958 metro_res+female_house\n"
     ]
    }
   ],
   "source": [
    "# Let's find the best set of variables that gives the highest R^2\n",
    "features = {'metro_res', 'white', 'hs_grad', 'female_house'}\n",
    "\n",
    "# recursively iterate over all combinations of variables\n",
    "def combs(params, formula, result):\n",
    "    if not params:\n",
    "        result.add(formula.lstrip('+'))\n",
    "        return\n",
    "    else:\n",
    "        new_params = params.copy()\n",
    "        for elt in params:\n",
    "            new_params.remove(elt)\n",
    "\n",
    "            combs(new_params, formula + '+' + elt, result)\n",
    "            combs(new_params, formula, result)\n",
    "\n",
    "res = set()\n",
    "combs(features, '', res)\n",
    "res.remove('')\n",
    "\n",
    "# now calculate Adjusted R-Squared for each combination\n",
    "for formula in res:\n",
    "    lm = ols(formula='poverty~' + formula, data=data_for_corr).fit()\n",
    "    print(f'{lm.rsquared_adj:.4f}', formula)\n"
   ],
   "metadata": {
    "collapsed": false
   }
  },
  {
   "cell_type": "markdown",
   "source": [
    "__Conclusion__: combination of features 'white + metro_res + hs_grad' gives the best result with $Adj.R^2 = 0.6183$"
   ],
   "metadata": {
    "collapsed": false
   }
  },
  {
   "cell_type": "code",
   "execution_count": 121,
   "outputs": [
    {
     "name": "stdout",
     "output_type": "stream",
     "text": [
      "Intercept    68.722015\n",
      "white        -0.053327\n",
      "metro_res    -0.055532\n",
      "hs_grad      -0.569724\n",
      "dtype: float64\n",
      "                            OLS Regression Results                            \n",
      "==============================================================================\n",
      "Dep. Variable:                poverty   R-squared:                       0.641\n",
      "Model:                            OLS   Adj. R-squared:                  0.618\n",
      "Method:                 Least Squares   F-statistic:                     28.00\n",
      "Date:                Fri, 02 Dec 2022   Prob (F-statistic):           1.55e-10\n",
      "Time:                        16:51:24   Log-Likelihood:                -103.41\n",
      "No. Observations:                  51   AIC:                             214.8\n",
      "Df Residuals:                      47   BIC:                             222.5\n",
      "Df Model:                           3                                         \n",
      "Covariance Type:            nonrobust                                         \n",
      "==============================================================================\n",
      "                 coef    std err          t      P>|t|      [0.025      0.975]\n",
      "------------------------------------------------------------------------------\n",
      "Intercept     68.7220      6.389     10.756      0.000      55.869      81.575\n",
      "white         -0.0533      0.021     -2.483      0.017      -0.097      -0.010\n",
      "metro_res     -0.0555      0.019     -2.926      0.005      -0.094      -0.017\n",
      "hs_grad       -0.5697      0.075     -7.569      0.000      -0.721      -0.418\n",
      "==============================================================================\n",
      "Omnibus:                        3.479   Durbin-Watson:                   1.900\n",
      "Prob(Omnibus):                  0.176   Jarque-Bera (JB):                3.230\n",
      "Skew:                           0.607   Prob(JB):                        0.199\n",
      "Kurtosis:                       2.787   Cond. No.                     3.32e+03\n",
      "==============================================================================\n",
      "\n",
      "Notes:\n",
      "[1] Standard Errors assume that the covariance matrix of the errors is correctly specified.\n",
      "[2] The condition number is large, 3.32e+03. This might indicate that there are\n",
      "strong multicollinearity or other numerical problems.\n"
     ]
    }
   ],
   "source": [
    "# Final model\n",
    "lm = ols('poverty~white + metro_res + hs_grad', data=data_for_corr).fit()\n",
    "\n",
    "print(lm.params)\n",
    "print(lm.summary())"
   ],
   "metadata": {
    "collapsed": false
   }
  },
  {
   "cell_type": "markdown",
   "source": [
    "## Categorical Data Analysis"
   ],
   "metadata": {
    "collapsed": false
   }
  },
  {
   "cell_type": "markdown",
   "source": [
    "__Probability Mass Function (PMF)__ - a function that gives the probability that a discrete random variable is equal to some value"
   ],
   "metadata": {
    "collapsed": false
   }
  },
  {
   "cell_type": "markdown",
   "source": [
    "__Bernoulli's Distribution__ - discrete probability distribution with 2 outcomes (0 or 1) - tossing a coin - a single trial\n",
    "$p \\in [0, 1]$ - success probability\n",
    "$k\\in\\{0,1\\}$ - number of successes\n",
    "PMF: $$f(k, p) = \\begin{cases} p \\text{               if } k=1\\\\\n",
    "q=1-p \\text{    if } k=0\\\\\n",
    "\\end{cases}$$\n",
    "or $$f(k, p)=p^k(1-p)^{1-k}, \\qquad k\\in\\{0, 1\\}$$"
   ],
   "metadata": {
    "collapsed": false
   }
  },
  {
   "cell_type": "markdown",
   "source": [
    "__Binomial Distribution $B(n,p)$__ - Bernoulli's distribution for multiple trials\n",
    "$n \\in \\{0, 1, 2,...\\}$ - number of trials\n",
    "$p \\in [0, 1]$ - success probability for each trial\n",
    "$q=1-p$\n",
    "$k\\in\\{0,1,2,...,n\\}$ - number of successes\n",
    "PMF: $$f(n,k)={n\\choose k}p^kq^{n-k} $$"
   ],
   "metadata": {
    "collapsed": false
   }
  },
  {
   "cell_type": "markdown",
   "source": [
    "## Chi-Square Test"
   ],
   "metadata": {
    "collapsed": false
   }
  },
  {
   "cell_type": "markdown",
   "source": [
    "__Pearson's Chi Squared Test__ - checks if there's a significant difference between the frequencies in one or more categories of a contingency table. It is a non-parametric test that is performed on categorical data to analyze the relationship between the observed and expected values:\n",
    " 1) Define $H_0$ and $H_1$:\n",
    "    - $H_0$ - frequency distribution is equal (indistinguishable) to expected\n",
    "    - $H_1$ - frequency distribution is different than expected\n",
    " 2) Get the $\\alpha$ (usually given as 0.05)\n",
    " 3) Calculate _degrees of freedom_ $=n-1$, where $n$ is number of categories\n",
    " 4) Go to _Chi Squared table_ to find decision boundary (2-tail test)\n",
    " 5) If $\\chi^2 > 5.9$ (for $df = 2$ and $\\alpha = 0.05$) then we reject $H_0$\n",
    "$$\\chi^2 = \\sum\\frac{(O_i - E_i)^2}{E_i}$$\n",
    "where $\\chi^2$ - chi-square, $O_i$ - observed frequency (value), $E_i$ - expected frequency (value)\n",
    "\n",
    "For $df=2$, 95% of frequencies lie inside [0, 5.9] interval of $\\chi^2$ values and $p > 0.05$.\n",
    "Therefore, if $\\chi^2 > 5.9$ or $p < 0.05$, then we reject $H_0$ and conclude that frequencies are significantly different\n"
   ],
   "metadata": {
    "collapsed": false
   }
  },
  {
   "cell_type": "code",
   "execution_count": 122,
   "outputs": [
    {
     "name": "stdout",
     "output_type": "stream",
     "text": [
      "Chi-square = 2.62, p_value = 0.27\n"
     ]
    }
   ],
   "source": [
    "# calculate chi-square and p-value\n",
    "chi2_value, chi2_pvalue = stats.chisquare(f_obs=[18, 55, 27], f_exp=[25, 50, 25]) # f_obs - observed frequencies, f_exp - expected frequencies\n",
    "\n",
    "print(f'Chi-square = {chi2_value:.2f}, p_value = {chi2_pvalue:.2f}')"
   ],
   "metadata": {
    "collapsed": false
   }
  },
  {
   "cell_type": "code",
   "execution_count": 123,
   "outputs": [
    {
     "name": "stdout",
     "output_type": "stream",
     "text": [
      "23.25%\n"
     ]
    }
   ],
   "source": [
    "# calculate many values are inside the interval between 2 and 4 of chi-square values with 2 degrees of freedom\n",
    "chi2_down = stats.chi2.cdf(2, 2)\n",
    "chi2_up = stats.chi2.cdf(4, 2)\n",
    "\n",
    "chi2_interval = chi2_up - chi2_down\n",
    "\n",
    "print(f'{chi2_interval*100:.2f}%')"
   ],
   "metadata": {
    "collapsed": false
   }
  },
  {
   "cell_type": "markdown",
   "source": [
    "## Contingency Tables Analysis"
   ],
   "metadata": {
    "collapsed": false
   }
  },
  {
   "cell_type": "markdown",
   "source": [
    "__Contingency Tables Analysis__ - the rows represent values of one categorical variable, while the columns denote the values of another\n",
    "__Target__ - examine the relationship between two nominative variables:\n",
    " - $H_0$ - frequency distribution indistinguishable from expected\n",
    " - $H_1$ - frequency distribution is different than expected, so nominative variables interconnected"
   ],
   "metadata": {
    "collapsed": false
   }
  },
  {
   "cell_type": "markdown",
   "source": [
    "__How to calculate Expected values?__\n",
    "$$f_{ij} = \\frac{f_i*f_j}{N}$$\n",
    "where:\n",
    " - $f_i$ - row sum\n",
    " - $f_j$ - column sum\n",
    " - $N$ - number of observations"
   ],
   "metadata": {
    "collapsed": false
   }
  },
  {
   "cell_type": "markdown",
   "source": [
    "__Observed Values__:\n",
    "\n",
    "|             | Feature 2-0 | Feature 2-1 | $\\sum$              |\n",
    "|-------------|-----------|-------------|---------------------|\n",
    "| Feature 1-0 | $a$       | $b$         | $a + b$             |\n",
    "| Feature 1-1 | $c$       | $d$         | $c + d$             |\n",
    "| $\\sum$      | $a + c$   | $b + d$     | $n = a + b + c + d$ |"
   ],
   "metadata": {
    "collapsed": false
   }
  },
  {
   "cell_type": "markdown",
   "source": [
    "__Expected Values__:\n",
    "\n",
    "|             | Feature 2-0             | Feature 2-1             | $\\sum$              |\n",
    "|-------------|-------------------------|-------------------------|---------------------|\n",
    "| Feature 1-0 | $\\frac{(a+c)*(a+b)}{n}$ | $\\frac{(b+d)*(a+b)}{n}$ | $a+b$               |\n",
    "| Feature 1-1 | $\\frac{(a+c)*(c+d)}{n}$ | $\\frac{(b+d)*(c+d)}{n}$ | $c+d$               |\n",
    "| $\\sum$      | $a + c$                 | $b + d$                 | $n = a + b + c + d$ |"
   ],
   "metadata": {
    "collapsed": false
   }
  },
  {
   "cell_type": "markdown",
   "source": [
    "To find a solution we use Chi-square $\\Chi^2$ with the following degrees of freedom:\n",
    "$$df = (n-1)\\cdot(m-1)$$\n",
    "where $n$ - number of columns in the table, $m$ - number of rows"
   ],
   "metadata": {
    "collapsed": false
   }
  },
  {
   "cell_type": "markdown",
   "source": [
    "__Yates's Correction (Yates's chi-squared test)__ - aims at correcting the error introduced by assuming that the discrete probabilities of frequencies in the table can be approximated by a continuous distribution:\n",
    "$$X^2_{Yates} = \\sum{\\frac{(|O_i-E_i|-0.5)^2}{E_i}}$$\n",
    "_Yates's correction_ is used when the number of observed and expected values more than 5 but less than 10"
   ],
   "metadata": {
    "collapsed": false
   }
  },
  {
   "cell_type": "code",
   "execution_count": 124,
   "outputs": [
    {
     "name": "stdout",
     "output_type": "stream",
     "text": [
      "Chi-square = 7.11 \n",
      "p-value = 0.008 \n",
      "df = 1\n",
      "\n",
      "Expected values:\n",
      "[[13.63636364 11.36363636]\n",
      " [10.36363636  8.63636364]]\n"
     ]
    }
   ],
   "source": [
    "# calculate expected values, degrees of freedoms, chi-square and p-value\n",
    "observed = [[18,7], [6, 13]]\n",
    "chi2_value, p_value, df_value, expected = stats.chi2_contingency(observed, correction=False) # correction - Yates's correction (False here)\n",
    "\n",
    "print(f'Chi-square = {chi2_value:.2f} \\np-value = {p_value:.3f} \\ndf = {df_value}')\n",
    "print(f'\\nExpected values:\\n{expected}')"
   ],
   "metadata": {
    "collapsed": false
   }
  },
  {
   "cell_type": "markdown",
   "source": [
    "__Conditions for $X^2$ for contingency table analysis__:\n",
    " - All observations are independent\n",
    " - Minimum number of observations in each table cell > 5"
   ],
   "metadata": {
    "collapsed": false
   }
  },
  {
   "cell_type": "markdown",
   "source": [
    "__Fisher's exact test__ - used when conditions for $X^2$ are not met (small number of observations -> <5 in each cell):\n",
    "$$\\frac{C^a_{a+b}\\cdot C^c_{c+d}}{C^{a+c}_n}$$"
   ],
   "metadata": {
    "collapsed": false
   }
  },
  {
   "cell_type": "code",
   "execution_count": 125,
   "outputs": [
    {
     "data": {
      "text/plain": "0.48571428571428565"
     },
     "execution_count": 125,
     "metadata": {},
     "output_type": "execute_result"
    }
   ],
   "source": [
    "# calculate p-value using Fisher's exact test\n",
    "odds_ratio, p_value = stats.fisher_exact([[1, 3], [3, 1]])\n",
    "\n",
    "p_value"
   ],
   "metadata": {
    "collapsed": false
   }
  },
  {
   "cell_type": "markdown",
   "source": [
    "## Logistic Regression"
   ],
   "metadata": {
    "collapsed": false
   }
  },
  {
   "cell_type": "markdown",
   "source": [
    "__Logistic Regression__ - a model that tests the relationship between nominative dependent variable with two possible outcomes and various independent variables (can be both numerical and categorical).\n",
    "\n",
    "$p$ - probability of one outcome of the dependent variable\n",
    "$1-p$ - probability of the second outcome\n",
    "So, the model is the following:\n",
    "$$[0,1] \\ni \\quad p_i=\\beta_0+\\beta_1x_{1,i}+\\beta_2x_{2,i}+...+\\beta_kx_{k,i}\\quad \\in [-\\infty,+\\infty]$$"
   ],
   "metadata": {
    "collapsed": false
   }
  },
  {
   "cell_type": "markdown",
   "source": [
    "__Odds__ - a measure of the likelihood of a particular outcome. It is the ratio of the probability of success to probability of failure:\n",
    "$$Odds = \\frac{p}{1-p}\\qquad \\in [0, +\\infty]$$"
   ],
   "metadata": {
    "collapsed": false
   }
  },
  {
   "cell_type": "markdown",
   "source": [
    "__Log Odds__ - log of odds $=logit(p) \\in(-\\infty, +\\infty)$\n",
    "$$logit(p) = \\log(\\frac{p}{1-p}) = \\beta_0+\\beta_1x_1$$\n",
    "$$p=\\frac{\\exp(\\beta_0+\\beta_1x_1)}{1+\\exp(\\beta_0+\\beta_1x_1)}=\\frac{\\exp(\\log(\\frac{p}{1-p}))}{1+\\exp(\\log(\\frac{p}{1-p}))}$$"
   ],
   "metadata": {
    "collapsed": false
   }
  },
  {
   "cell_type": "markdown",
   "source": [
    "| $p$   | $1-p$       | $odds=\\frac{p}{1-p}$   | $log odds=logit(p)$ | $p \\text{ from log odds}$                      |\n",
    "|-------|-------------|------------------------|---------------------|------------------------------------------------|\n",
    "| $0.2$ | $1-0.2=0.8$ | $\\frac{0.2}{0.8}=0.25$ | $\\log(0.25)=-1.38$  | $\\frac{\\exp(logit(p))}{1+\\exp(logit(p))}= 0.2$ |\n",
    "| $0.5$ | $1-0.5=0.5$ | $\\frac{0.5}{0.5}=1$ | $\\log(1)=0$ | $\\frac{\\exp(logit(p))}{1+\\exp(logit(p))}= 0.5$             |\n",
    "| $0.8$ | $1-0.8=0.2$ | $\\frac{0.8}{0.2}=4$ | $\\log(4)=1.38$ | $\\frac{\\exp(logit(p))}{1+\\exp(logit(p))}=0.8$             |"
   ],
   "metadata": {
    "collapsed": false
   }
  },
  {
   "cell_type": "markdown",
   "source": [
    "__Intercept Only Model__ - model without predictors: $y=intercept$\n",
    "__Intercept__ here is the log of odds of success: $intercept=logodds=logit(p)=\\log(p/(1-p))$\n",
    "\n",
    "$H_0$ - no difference between outcome 1 and outcome 2 and normal distribution describes coefficient of logistic regression\n",
    " - $p=1-p$\n",
    " - $odds=1$\n",
    " - $logit(p)=0$\n",
    "\n",
    "_Suppose we have a task to analyze the probability of getting this or even bigger difference of intercept from 0 provided that the Null Hypothesis is true_:\n",
    " - run the intercept only model and get the intercept (log odds of success)\n",
    " - calculate standard error _(se)_ of a normal distribution with _intercept=0_\n",
    " - get the z-score by dividing _intercept_ by _standard error_ - distance to 0 in the number of standard deviations\n",
    " - calculate p-value from z-score to find a probability of such deviation"
   ],
   "metadata": {
    "collapsed": false
   }
  },
  {
   "cell_type": "markdown",
   "source": [
    "__Model with one categorical predictor__ - outcome depends on one variable. For example, 'Surviving' ~ 'Sex':\n",
    "<br>\n",
    "\n",
    "|  | Female | Male |\n",
    "| --- | --- | --- |\n",
    "| No | 64 | 360 |\n",
    "| Yes | 197 | 93 |\n",
    "\n",
    "_odds_male_$=93/360=0.26$\n",
    "_odds_female_$=197/64=3.08$\n",
    "_odds_ratio_=_odds_male_ / _odds_female_\n",
    "_intercept_ - log of odds of surviving of females - $\\log(\\text{odds_female})=\\log(3.08)=1.12$\n",
    "$\\beta_1$ - coefficient of $x$ - log of ratio of odds of surviving of males and females: $\\log(\\text{odds_ratio})=\\log(\\text{odds_male})-\\log(\\text{odds_female})$\n",
    "_As odds_male and odds_female are mutually dependent (multicolinear), we use only one of them in our model:_\n",
    "$$\\log(odds) = Intercept + b_1*SexMale$$\n",
    "$\\log(\\text{odds_to_survive_being_female}) = 1.12 + (-2.48)*0=1.12$ <br>\n",
    "$\\log(\\text{odds_to_survive_being_male}) = 1.12 + (-2.48)*1=-1.35$\n",
    "\n",
    "_Unlike the $x^2$ test, logistic regression not only indicated that the two variables were related, but also showed the odds for different gradations of the independent variable_"
   ],
   "metadata": {
    "collapsed": false
   }
  },
  {
   "cell_type": "code",
   "execution_count": 126,
   "outputs": [
    {
     "data": {
      "text/plain": "   survived  pclass     sex   age  sibsp  parch     fare embarked  class  \\\n0         0       3    male  22.0      1      0   7.2500        S  Third   \n1         1       1  female  38.0      1      0  71.2833        C  First   \n2         1       3  female  26.0      0      0   7.9250        S  Third   \n3         1       1  female  35.0      1      0  53.1000        S  First   \n4         0       3    male  35.0      0      0   8.0500        S  Third   \n\n     who  adult_male deck  embark_town alive  alone  \n0    man        True  NaN  Southampton    no  False  \n1  woman       False    C    Cherbourg   yes  False  \n2  woman       False  NaN  Southampton   yes   True  \n3  woman       False    C  Southampton   yes  False  \n4    man        True  NaN  Southampton    no   True  ",
      "text/html": "<div>\n<style scoped>\n    .dataframe tbody tr th:only-of-type {\n        vertical-align: middle;\n    }\n\n    .dataframe tbody tr th {\n        vertical-align: top;\n    }\n\n    .dataframe thead th {\n        text-align: right;\n    }\n</style>\n<table border=\"1\" class=\"dataframe\">\n  <thead>\n    <tr style=\"text-align: right;\">\n      <th></th>\n      <th>survived</th>\n      <th>pclass</th>\n      <th>sex</th>\n      <th>age</th>\n      <th>sibsp</th>\n      <th>parch</th>\n      <th>fare</th>\n      <th>embarked</th>\n      <th>class</th>\n      <th>who</th>\n      <th>adult_male</th>\n      <th>deck</th>\n      <th>embark_town</th>\n      <th>alive</th>\n      <th>alone</th>\n    </tr>\n  </thead>\n  <tbody>\n    <tr>\n      <th>0</th>\n      <td>0</td>\n      <td>3</td>\n      <td>male</td>\n      <td>22.0</td>\n      <td>1</td>\n      <td>0</td>\n      <td>7.2500</td>\n      <td>S</td>\n      <td>Third</td>\n      <td>man</td>\n      <td>True</td>\n      <td>NaN</td>\n      <td>Southampton</td>\n      <td>no</td>\n      <td>False</td>\n    </tr>\n    <tr>\n      <th>1</th>\n      <td>1</td>\n      <td>1</td>\n      <td>female</td>\n      <td>38.0</td>\n      <td>1</td>\n      <td>0</td>\n      <td>71.2833</td>\n      <td>C</td>\n      <td>First</td>\n      <td>woman</td>\n      <td>False</td>\n      <td>C</td>\n      <td>Cherbourg</td>\n      <td>yes</td>\n      <td>False</td>\n    </tr>\n    <tr>\n      <th>2</th>\n      <td>1</td>\n      <td>3</td>\n      <td>female</td>\n      <td>26.0</td>\n      <td>0</td>\n      <td>0</td>\n      <td>7.9250</td>\n      <td>S</td>\n      <td>Third</td>\n      <td>woman</td>\n      <td>False</td>\n      <td>NaN</td>\n      <td>Southampton</td>\n      <td>yes</td>\n      <td>True</td>\n    </tr>\n    <tr>\n      <th>3</th>\n      <td>1</td>\n      <td>1</td>\n      <td>female</td>\n      <td>35.0</td>\n      <td>1</td>\n      <td>0</td>\n      <td>53.1000</td>\n      <td>S</td>\n      <td>First</td>\n      <td>woman</td>\n      <td>False</td>\n      <td>C</td>\n      <td>Southampton</td>\n      <td>yes</td>\n      <td>False</td>\n    </tr>\n    <tr>\n      <th>4</th>\n      <td>0</td>\n      <td>3</td>\n      <td>male</td>\n      <td>35.0</td>\n      <td>0</td>\n      <td>0</td>\n      <td>8.0500</td>\n      <td>S</td>\n      <td>Third</td>\n      <td>man</td>\n      <td>True</td>\n      <td>NaN</td>\n      <td>Southampton</td>\n      <td>no</td>\n      <td>True</td>\n    </tr>\n  </tbody>\n</table>\n</div>"
     },
     "execution_count": 126,
     "metadata": {},
     "output_type": "execute_result"
    }
   ],
   "source": [
    "# Logistic regression with one categorical predictor\n",
    "category_columns = {col:'category' for col in ['Survived', 'Sex']}\n",
    "\n",
    "data_titanic = sns.load_dataset('titanic')\n",
    "data_titanic = data_titanic[data_titanic.age.notnull()]\n",
    "data_titanic.head()"
   ],
   "metadata": {
    "collapsed": false
   }
  },
  {
   "cell_type": "code",
   "execution_count": 127,
   "outputs": [
    {
     "data": {
      "text/plain": "<class 'statsmodels.iolib.summary.Summary'>\n\"\"\"\n                 Generalized Linear Model Regression Results                  \n==============================================================================\nDep. Variable:                      y   No. Observations:                  714\nModel:                            GLM   Df Residuals:                      712\nModel Family:                Binomial   Df Model:                            1\nLink Function:                  Logit   Scale:                          1.0000\nMethod:                          IRLS   Log-Likelihood:                -375.35\nDate:                Fri, 02 Dec 2022   Deviance:                       750.70\nTime:                        16:51:24   Pearson chi2:                     714.\nNo. Iterations:                     4   Pseudo R-squ. (CS):             0.2588\nCovariance Type:            nonrobust                                         \n==============================================================================\n                 coef    std err          z      P>|z|      [0.025      0.975]\n------------------------------------------------------------------------------\nconst          1.1243      0.144      7.814      0.000       0.842       1.406\n0             -2.4778      0.185    -13.392      0.000      -2.840      -2.115\n==============================================================================\n\"\"\"",
      "text/html": "<table class=\"simpletable\">\n<caption>Generalized Linear Model Regression Results</caption>\n<tr>\n  <th>Dep. Variable:</th>           <td>y</td>        <th>  No. Observations:  </th>  <td>   714</td> \n</tr>\n<tr>\n  <th>Model:</th>                  <td>GLM</td>       <th>  Df Residuals:      </th>  <td>   712</td> \n</tr>\n<tr>\n  <th>Model Family:</th>        <td>Binomial</td>     <th>  Df Model:          </th>  <td>     1</td> \n</tr>\n<tr>\n  <th>Link Function:</th>         <td>Logit</td>      <th>  Scale:             </th> <td>  1.0000</td>\n</tr>\n<tr>\n  <th>Method:</th>                <td>IRLS</td>       <th>  Log-Likelihood:    </th> <td> -375.35</td>\n</tr>\n<tr>\n  <th>Date:</th>            <td>Fri, 02 Dec 2022</td> <th>  Deviance:          </th> <td>  750.70</td>\n</tr>\n<tr>\n  <th>Time:</th>                <td>16:51:24</td>     <th>  Pearson chi2:      </th>  <td>  714.</td> \n</tr>\n<tr>\n  <th>No. Iterations:</th>          <td>4</td>        <th>  Pseudo R-squ. (CS):</th>  <td>0.2588</td> \n</tr>\n<tr>\n  <th>Covariance Type:</th>     <td>nonrobust</td>    <th>                     </th>     <td> </td>   \n</tr>\n</table>\n<table class=\"simpletable\">\n<tr>\n    <td></td>       <th>coef</th>     <th>std err</th>      <th>z</th>      <th>P>|z|</th>  <th>[0.025</th>    <th>0.975]</th>  \n</tr>\n<tr>\n  <th>const</th> <td>    1.1243</td> <td>    0.144</td> <td>    7.814</td> <td> 0.000</td> <td>    0.842</td> <td>    1.406</td>\n</tr>\n<tr>\n  <th>0</th>     <td>   -2.4778</td> <td>    0.185</td> <td>  -13.392</td> <td> 0.000</td> <td>   -2.840</td> <td>   -2.115</td>\n</tr>\n</table>"
     },
     "execution_count": 127,
     "metadata": {},
     "output_type": "execute_result"
    }
   ],
   "source": [
    "from statsmodels.tools import add_constant\n",
    "from statsmodels.formula.api import glm # a flexible generalization of ordinary linear regression\n",
    "\n",
    "# dependent variable (categorized)\n",
    "Y = data_titanic.loc[:, 'survived'].astype('category').cat.codes\n",
    "\n",
    "# categorize variable 'sex' - independent predictor with 2 gradations\n",
    "X = add_constant(data_titanic.loc[:, 'sex'].astype('category').cat.codes) # 'add_constant' adds a column of ones to an array\n",
    "\n",
    "# calculate logistic regression using statsmodels\n",
    "glm_binom = sm.GLM(Y, X, family=sm.families.Binomial())\n",
    "res = glm_binom.fit()\n",
    "res.summary()"
   ],
   "metadata": {
    "collapsed": false
   }
  },
  {
   "cell_type": "code",
   "execution_count": 128,
   "outputs": [
    {
     "data": {
      "text/plain": "<class 'statsmodels.iolib.summary.Summary'>\n\"\"\"\n                 Generalized Linear Model Regression Results                  \n==============================================================================\nDep. Variable:               survived   No. Observations:                  714\nModel:                            GLM   Df Residuals:                      712\nModel Family:                Binomial   Df Model:                            1\nLink Function:                  Logit   Scale:                          1.0000\nMethod:                          IRLS   Log-Likelihood:                -375.35\nDate:                Fri, 02 Dec 2022   Deviance:                       750.70\nTime:                        16:51:24   Pearson chi2:                     714.\nNo. Iterations:                     4   Pseudo R-squ. (CS):             0.2588\nCovariance Type:            nonrobust                                         \n===============================================================================\n                  coef    std err          z      P>|z|      [0.025      0.975]\n-------------------------------------------------------------------------------\nIntercept       1.1243      0.144      7.814      0.000       0.842       1.406\nsex[T.male]    -2.4778      0.185    -13.392      0.000      -2.840      -2.115\n===============================================================================\n\"\"\"",
      "text/html": "<table class=\"simpletable\">\n<caption>Generalized Linear Model Regression Results</caption>\n<tr>\n  <th>Dep. Variable:</th>       <td>survived</td>     <th>  No. Observations:  </th>  <td>   714</td> \n</tr>\n<tr>\n  <th>Model:</th>                  <td>GLM</td>       <th>  Df Residuals:      </th>  <td>   712</td> \n</tr>\n<tr>\n  <th>Model Family:</th>        <td>Binomial</td>     <th>  Df Model:          </th>  <td>     1</td> \n</tr>\n<tr>\n  <th>Link Function:</th>         <td>Logit</td>      <th>  Scale:             </th> <td>  1.0000</td>\n</tr>\n<tr>\n  <th>Method:</th>                <td>IRLS</td>       <th>  Log-Likelihood:    </th> <td> -375.35</td>\n</tr>\n<tr>\n  <th>Date:</th>            <td>Fri, 02 Dec 2022</td> <th>  Deviance:          </th> <td>  750.70</td>\n</tr>\n<tr>\n  <th>Time:</th>                <td>16:51:24</td>     <th>  Pearson chi2:      </th>  <td>  714.</td> \n</tr>\n<tr>\n  <th>No. Iterations:</th>          <td>4</td>        <th>  Pseudo R-squ. (CS):</th>  <td>0.2588</td> \n</tr>\n<tr>\n  <th>Covariance Type:</th>     <td>nonrobust</td>    <th>                     </th>     <td> </td>   \n</tr>\n</table>\n<table class=\"simpletable\">\n<tr>\n       <td></td>          <th>coef</th>     <th>std err</th>      <th>z</th>      <th>P>|z|</th>  <th>[0.025</th>    <th>0.975]</th>  \n</tr>\n<tr>\n  <th>Intercept</th>   <td>    1.1243</td> <td>    0.144</td> <td>    7.814</td> <td> 0.000</td> <td>    0.842</td> <td>    1.406</td>\n</tr>\n<tr>\n  <th>sex[T.male]</th> <td>   -2.4778</td> <td>    0.185</td> <td>  -13.392</td> <td> 0.000</td> <td>   -2.840</td> <td>   -2.115</td>\n</tr>\n</table>"
     },
     "execution_count": 128,
     "metadata": {},
     "output_type": "execute_result"
    }
   ],
   "source": [
    "# r-style glm\n",
    "glm_binom_rstyle = glm(formula='survived~sex', data=data_titanic, family=sm.families.Binomial())\n",
    "res_rstyle = glm_binom_rstyle.fit()\n",
    "res_rstyle.summary()"
   ],
   "metadata": {
    "collapsed": false
   }
  },
  {
   "cell_type": "markdown",
   "source": [],
   "metadata": {
    "collapsed": false
   }
  },
  {
   "cell_type": "markdown",
   "source": [
    "__Model with two categorical predictors__ - outcome depends on two variables. For example, 'Surviving' ~ 'Sex' + 'Class':\n",
    "\n",
    "<br>\n",
    "\n",
    "|          | Female  ||||      Male |||\n",
    "|----------|:-------:|:---------:|:-------:|---|:--------:|:------:|:-----:|\n",
    "| Survived |  First  |  Second   |  Third  | |  First    | Second |  Third |\n",
    "| No       |    3    |     6     |   55    | |    61    |   84   |  215  |\n",
    "| Yes      |   82    |    68     |   47    | |   40    |   15   |  38   |\n",
    "\n",
    "_Regression quotation:_\n",
    "\n",
    "$$\\log(odds)= intercept + \\beta_1 *SexMale + \\beta_2 *PclassSecond + \\beta_3 *SexMale*PclassSecond + \\beta_4*SexMale*PclassThird$$"
   ],
   "metadata": {
    "collapsed": false
   }
  },
  {
   "cell_type": "code",
   "execution_count": 129,
   "outputs": [
    {
     "data": {
      "text/plain": "<class 'statsmodels.iolib.summary.Summary'>\n\"\"\"\n                 Generalized Linear Model Regression Results                  \n==============================================================================\nDep. Variable:               survived   No. Observations:                  714\nModel:                            GLM   Df Residuals:                      711\nModel Family:                Binomial   Df Model:                            2\nLink Function:                  Logit   Scale:                          1.0000\nMethod:                          IRLS   Log-Likelihood:                -336.26\nDate:                Fri, 02 Dec 2022   Deviance:                       672.51\nTime:                        16:51:24   Pearson chi2:                     734.\nNo. Iterations:                     5   Pseudo R-squ. (CS):             0.3357\nCovariance Type:            nonrobust                                         \n===============================================================================\n                  coef    std err          z      P>|z|      [0.025      0.975]\n-------------------------------------------------------------------------------\nIntercept       3.3468      0.323     10.355      0.000       2.713       3.980\nsex[T.male]    -2.5739      0.203    -12.680      0.000      -2.972      -2.176\npclass         -0.9910      0.118     -8.383      0.000      -1.223      -0.759\n===============================================================================\n\"\"\"",
      "text/html": "<table class=\"simpletable\">\n<caption>Generalized Linear Model Regression Results</caption>\n<tr>\n  <th>Dep. Variable:</th>       <td>survived</td>     <th>  No. Observations:  </th>  <td>   714</td> \n</tr>\n<tr>\n  <th>Model:</th>                  <td>GLM</td>       <th>  Df Residuals:      </th>  <td>   711</td> \n</tr>\n<tr>\n  <th>Model Family:</th>        <td>Binomial</td>     <th>  Df Model:          </th>  <td>     2</td> \n</tr>\n<tr>\n  <th>Link Function:</th>         <td>Logit</td>      <th>  Scale:             </th> <td>  1.0000</td>\n</tr>\n<tr>\n  <th>Method:</th>                <td>IRLS</td>       <th>  Log-Likelihood:    </th> <td> -336.26</td>\n</tr>\n<tr>\n  <th>Date:</th>            <td>Fri, 02 Dec 2022</td> <th>  Deviance:          </th> <td>  672.51</td>\n</tr>\n<tr>\n  <th>Time:</th>                <td>16:51:24</td>     <th>  Pearson chi2:      </th>  <td>  734.</td> \n</tr>\n<tr>\n  <th>No. Iterations:</th>          <td>5</td>        <th>  Pseudo R-squ. (CS):</th>  <td>0.3357</td> \n</tr>\n<tr>\n  <th>Covariance Type:</th>     <td>nonrobust</td>    <th>                     </th>     <td> </td>   \n</tr>\n</table>\n<table class=\"simpletable\">\n<tr>\n       <td></td>          <th>coef</th>     <th>std err</th>      <th>z</th>      <th>P>|z|</th>  <th>[0.025</th>    <th>0.975]</th>  \n</tr>\n<tr>\n  <th>Intercept</th>   <td>    3.3468</td> <td>    0.323</td> <td>   10.355</td> <td> 0.000</td> <td>    2.713</td> <td>    3.980</td>\n</tr>\n<tr>\n  <th>sex[T.male]</th> <td>   -2.5739</td> <td>    0.203</td> <td>  -12.680</td> <td> 0.000</td> <td>   -2.972</td> <td>   -2.176</td>\n</tr>\n<tr>\n  <th>pclass</th>      <td>   -0.9910</td> <td>    0.118</td> <td>   -8.383</td> <td> 0.000</td> <td>   -1.223</td> <td>   -0.759</td>\n</tr>\n</table>"
     },
     "execution_count": 129,
     "metadata": {},
     "output_type": "execute_result"
    }
   ],
   "source": [
    "glm_binom_rstyle_2 = glm(formula='survived~sex+pclass', data=data_titanic, family=sm.families.Binomial()).fit()\n",
    "glm_binom_rstyle_2.summary()"
   ],
   "metadata": {
    "collapsed": false
   }
  },
  {
   "cell_type": "markdown",
   "source": [
    "__Mixed Regression Model__ - a model that includes both numerical and categorical variables: 'Surviving ~ 'Sex' + 'Pclass' + 'Age', where 'Age' is numerical variable"
   ],
   "metadata": {
    "collapsed": false
   }
  },
  {
   "cell_type": "code",
   "execution_count": 130,
   "outputs": [
    {
     "data": {
      "text/plain": "<class 'statsmodels.iolib.summary.Summary'>\n\"\"\"\n                 Generalized Linear Model Regression Results                  \n==============================================================================\nDep. Variable:               survived   No. Observations:                  714\nModel:                            GLM   Df Residuals:                      710\nModel Family:                Binomial   Df Model:                            3\nLink Function:                  Logit   Scale:                          1.0000\nMethod:                          IRLS   Log-Likelihood:                -323.65\nDate:                Fri, 02 Dec 2022   Deviance:                       647.29\nTime:                        16:51:24   Pearson chi2:                     768.\nNo. Iterations:                     5   Pseudo R-squ. (CS):             0.3587\nCovariance Type:            nonrobust                                         \n===============================================================================\n                  coef    std err          z      P>|z|      [0.025      0.975]\n-------------------------------------------------------------------------------\nIntercept       5.0560      0.502     10.069      0.000       4.072       6.040\nsex[T.male]    -2.5221      0.207    -12.168      0.000      -2.928      -2.116\npclass         -1.2885      0.139     -9.253      0.000      -1.561      -1.016\nage            -0.0369      0.008     -4.841      0.000      -0.052      -0.022\n===============================================================================\n\"\"\"",
      "text/html": "<table class=\"simpletable\">\n<caption>Generalized Linear Model Regression Results</caption>\n<tr>\n  <th>Dep. Variable:</th>       <td>survived</td>     <th>  No. Observations:  </th>  <td>   714</td> \n</tr>\n<tr>\n  <th>Model:</th>                  <td>GLM</td>       <th>  Df Residuals:      </th>  <td>   710</td> \n</tr>\n<tr>\n  <th>Model Family:</th>        <td>Binomial</td>     <th>  Df Model:          </th>  <td>     3</td> \n</tr>\n<tr>\n  <th>Link Function:</th>         <td>Logit</td>      <th>  Scale:             </th> <td>  1.0000</td>\n</tr>\n<tr>\n  <th>Method:</th>                <td>IRLS</td>       <th>  Log-Likelihood:    </th> <td> -323.65</td>\n</tr>\n<tr>\n  <th>Date:</th>            <td>Fri, 02 Dec 2022</td> <th>  Deviance:          </th> <td>  647.29</td>\n</tr>\n<tr>\n  <th>Time:</th>                <td>16:51:24</td>     <th>  Pearson chi2:      </th>  <td>  768.</td> \n</tr>\n<tr>\n  <th>No. Iterations:</th>          <td>5</td>        <th>  Pseudo R-squ. (CS):</th>  <td>0.3587</td> \n</tr>\n<tr>\n  <th>Covariance Type:</th>     <td>nonrobust</td>    <th>                     </th>     <td> </td>   \n</tr>\n</table>\n<table class=\"simpletable\">\n<tr>\n       <td></td>          <th>coef</th>     <th>std err</th>      <th>z</th>      <th>P>|z|</th>  <th>[0.025</th>    <th>0.975]</th>  \n</tr>\n<tr>\n  <th>Intercept</th>   <td>    5.0560</td> <td>    0.502</td> <td>   10.069</td> <td> 0.000</td> <td>    4.072</td> <td>    6.040</td>\n</tr>\n<tr>\n  <th>sex[T.male]</th> <td>   -2.5221</td> <td>    0.207</td> <td>  -12.168</td> <td> 0.000</td> <td>   -2.928</td> <td>   -2.116</td>\n</tr>\n<tr>\n  <th>pclass</th>      <td>   -1.2885</td> <td>    0.139</td> <td>   -9.253</td> <td> 0.000</td> <td>   -1.561</td> <td>   -1.016</td>\n</tr>\n<tr>\n  <th>age</th>         <td>   -0.0369</td> <td>    0.008</td> <td>   -4.841</td> <td> 0.000</td> <td>   -0.052</td> <td>   -0.022</td>\n</tr>\n</table>"
     },
     "execution_count": 130,
     "metadata": {},
     "output_type": "execute_result"
    }
   ],
   "source": [
    "glm_binom_rstyle_3 = glm(formula='survived~sex+pclass+age', data=data_titanic, family=sm.families.Binomial()).fit()\n",
    "glm_binom_rstyle_3.summary()"
   ],
   "metadata": {
    "collapsed": false
   }
  },
  {
   "cell_type": "markdown",
   "source": [
    "## Nonparametric Methods"
   ],
   "metadata": {
    "collapsed": false
   }
  },
  {
   "cell_type": "markdown",
   "source": [
    "__Non-parametric test__ - is usually occurs with respect to population proportion"
   ],
   "metadata": {
    "collapsed": false
   }
  },
  {
   "cell_type": "markdown",
   "source": [
    "## W-Test"
   ],
   "metadata": {
    "collapsed": false
   }
  },
  {
   "cell_type": "markdown",
   "source": [
    "__Wilcoxon signed-rank test__ - a non-parametric analog of one-sample t-test.\n",
    " - The Wilcoxon signed-rank test can be used to test whether data comes from a symmetric population with a specified median\n",
    " - If the population median is known, then it can be used to test whether data is symmetric about its center.\n",
    " - If t-test calculates the difference in means, then Wilcoxon calculates the difference of ranks between two _dependent_ groups\n",
    "\n",
    "1) Calculate the difference of ranks between each group\n",
    "2) Sum up ranks of positive differences from 1) $T^+=\\sum{\\text{(ranks positive)}}$\n",
    "3) Sum up ranks of negative differences from 1) $T^-=\\sum{\\text{(ranks negative)}}$\n",
    "4) Choose the min between 2) and 3) $W = \\min{(T^+, T^-)}$\n",
    "5) Calculate expected value of $W$: $u_W=\\frac{n(n+1)}{4}$\n",
    "6) Compare expected $u_W$ with calculated $W$ - finding $z$-score: $z=\\frac{W-u_W}{\\sigma_W}$, where $\\sigma_W=\\sqrt{\\frac{n(n+1)(2n+1)-\\sum{\\frac{t^3_i-t_i}{2}}}{24}}$"
   ],
   "metadata": {
    "collapsed": false
   }
  },
  {
   "cell_type": "markdown",
   "source": [
    "## U-Test"
   ],
   "metadata": {
    "collapsed": false
   }
  },
  {
   "cell_type": "markdown",
   "source": [
    "__Mann–Whitney U-test (Wilcoxon rank-sum test)__ - a non-parametric analog of the two-sample t-test.\n",
    " - It is a test of the Null Hypothesis that, for randomly selected values X and Y from two populations, the probability of X being greater than Y is equal to the probability of Y being greater than X.\n",
    " - It is used to analyze the difference between independent rank-scaled samples.\n",
    " - Here we compare sum of ranks in two samples instead of their means:\n",
    "$$U_1 = R_1-\\frac{n_1*(n_1+1)}{2}$$\n",
    "$$U_2 = R_2-\\frac{n_2*(n_2+1)}{2}$$\n",
    "\n",
    "where: $R_1, R_2$ - sums of ranks in 2 samples and $n_1, n_2$ - number of observations in samples\n",
    "\n",
    "The min between $U_1$ and $U_2$ is the u-test statistic.\n",
    "\n",
    "If Null Hypothesis is true, then distribution of this statistic is normal with:\n",
    "$$\\mu=\\frac{n_1*n_2}{2} \\text{   and   }\\sigma=\\sqrt{\\frac{n_1*n_2*(n_1+n_2+1)}{12}}$$\n",
    "_This helps to calculate the probability of having this or greater differences of rank sums._"
   ],
   "metadata": {
    "collapsed": false
   }
  },
  {
   "cell_type": "markdown",
   "source": [
    "## H-Test"
   ],
   "metadata": {
    "collapsed": false
   }
  },
  {
   "cell_type": "markdown",
   "source": [
    "__Kruskal–Wallis test by ranks, Kruskal–Wallis H-test__ - it is the nonparametric analog of one-way ANOVA.\n",
    "\n",
    " - It is a non-parametric method for testing whether samples originate from the same distribution.\n",
    " - It is used for comparing two or more independent samples (_unlike Mann-Whitney test_) of equal or different sample sizes.\n",
    " - It is a _dispersion_ of mean ranks in the samples.\n",
    " - If Null Hypothesis is true, then the distribution of H-statistics can be described with _Chi-square_:\n",
    "$$H=\\frac{12}{N(N+1)}\\sum_{i=1}^k{\\frac{R^2_i}{n_i}-3(N+1)}, \\qquad N=\\sum_{i=1}^kn_i$$"
   ],
   "metadata": {
    "collapsed": false
   }
  },
  {
   "cell_type": "markdown",
   "source": [
    "## Bonus!!!"
   ],
   "metadata": {
    "collapsed": false
   }
  },
  {
   "cell_type": "markdown",
   "source": [
    "## K-Means Clustering"
   ],
   "metadata": {
    "collapsed": false
   }
  },
  {
   "cell_type": "markdown",
   "source": [
    "__K-means Clustering__ - is a method to partition $n$ observations into $k$ clusters in which each observation belongs to the cluster with the nearest mean (cluster centroid), serving as a prototype of the cluster.\n",
    "\n",
    "_Algorithm:_\n",
    " 1) Define the number of clusters we want/need to split our data\n",
    " 2) Choose the initial centroid positions (randomly, or by some methods)\n",
    " 3) For each point we determine which centroid it is closest to (assign to centroid)\n",
    " 4) Update the centroids by calculating the mean of observations in each group (groups from the previous step)\n",
    " 5) Reassign points (repeat step 3)\n",
    " 5) If the belongings of some points have changed, then repeat from point 4, otherwise stop"
   ],
   "metadata": {
    "collapsed": false
   }
  },
  {
   "cell_type": "markdown",
   "source": [
    "_There are following solutions that help to avoid the problems due to an element of randomness in the method_:\n",
    " - Farthest points - take initial centroid positions which are as far as possible between each other\n",
    " - Perform _k-means clustering_ multiple times\n",
    " - Change the number of clusters - add cluster and test whether this cluster addition decrease the total within-cluster sum of squares, if yes, then proceed with new number of clusters\n"
   ],
   "metadata": {
    "collapsed": false
   }
  },
  {
   "cell_type": "code",
   "execution_count": 131,
   "outputs": [
    {
     "name": "stdout",
     "output_type": "stream",
     "text": [
      "[[3. 5.]]\n",
      "146.0\n"
     ]
    }
   ],
   "source": [
    "# k-means with sklearn\n",
    "from sklearn.cluster import KMeans\n",
    "\n",
    "X = np.array([[-3, 3], [1,4], [2,6], [3, 8], [5, 2], [6, 11], [7, 1]])\n",
    "\n",
    "# kmeans model with 1 cluster\n",
    "kmeans = KMeans(n_clusters=1).fit(X)\n",
    "\n",
    "# centroid position\n",
    "print(kmeans.cluster_centers_)\n",
    "\n",
    "# sum of squares of distances between points and centroid\n",
    "print(kmeans.inertia_)"
   ],
   "metadata": {
    "collapsed": false
   }
  },
  {
   "cell_type": "markdown",
   "source": [
    "## Roadmap of Choosing Statistical Methods"
   ],
   "metadata": {
    "collapsed": false
   }
  },
  {
   "cell_type": "code",
   "execution_count": 132,
   "outputs": [
    {
     "data": {
      "text/plain": "<Figure size 2000x1000 with 1 Axes>",
      "image/png": "[encoded data removed]"
     },
     "metadata": {},
     "output_type": "display_data"
    }
   ],
   "source": [
    "import networkx as nx\n",
    "fig = plt.figure(figsize=(20, 10))\n",
    "\n",
    "G = nx.DiGraph()\n",
    "\n",
    "nodes = np.arange(0, 8).tolist()\n",
    "G.add_nodes_from(nodes)\n",
    "G.add_edges_from([(0,1), (0,2), (1,3), (1, 4), (1, 5), (2, 6), (2,7), (3, 8), (3, 9), (4, 10), (4, 11), (5, 12), (5, 13), (6, 14), (6, 15), (7, 16), (8, 17), (12, 18), (15, 19)])\n",
    "pos = {0:(11.5, 11.5),\n",
    "       1:(8.5, 10),\n",
    "       2:(14.5, 10),\n",
    "       3:(7, 8),\n",
    "       4:(8.5, 8),\n",
    "       5:(10, 8),\n",
    "       6:(14, 8),\n",
    "       7:(17, 8),\n",
    "       8: (6, 6),\n",
    "       9: (7.5, 6),\n",
    "       10: (8, 5),\n",
    "       11: (9, 5),\n",
    "       12: (9.5, 6),\n",
    "       13: (11, 6),\n",
    "       14: (13, 6),\n",
    "       15: (15, 6),\n",
    "       16: (17, 6),\n",
    "       17: (6.5, 4),\n",
    "       18: (10.5, 4),\n",
    "       19: (16,4)\n",
    "       }\n",
    "\n",
    "labels = {0: 'What is the Problem?',\n",
    "          1: 'Analyze the relation\\nbetween 2 variables',\n",
    "          2: 'Analyze the relation\\nbetween several variables',\n",
    "          3: 'Both variables\\nare numerical',\n",
    "          4: 'Both variables\\nare categorical',\n",
    "          5: 'One is categorical,\\nsecond is numerical',\n",
    "          6: 'Dependent variable\\nis numerical',\n",
    "          7: 'Dependent variable\\nis categorical',\n",
    "          8: 'Pearson\\nCorrelation\\nCoefficient',\n",
    "          9: 'Linear\\nRegression',\n",
    "          10: 'Pearson\\'s\\nChi-Square',\n",
    "          11: 'Fisher\\'s\\nexact test',\n",
    "          12: 'Student\\'s t-test',\n",
    "          13: 'Logistic\\nRegression',\n",
    "          14: 'Linear\\nRegression',\n",
    "          15: 'ANOVA',\n",
    "          16: 'Logistic\\nRegression',\n",
    "          17: 'Spearman\\nCorrelation',\n",
    "          18: 'Mann-Whitney\\nU-test',\n",
    "          19: 'Kruskal–Wallis\\nH-test'\n",
    "          }\n",
    "\n",
    "\n",
    "\n",
    "edge_colors = [\"blue\", \"red\",\n",
    "               \"blue\",\"blue\", \"blue\",\"red\", 'red',\n",
    "               'blue', 'blue', 'blue', 'blue','blue','blue', 'red','red','red',\n",
    "               'brown', 'brown', 'brown']\n",
    "nx.draw_networkx(G, pos = pos, labels = labels, arrows = True,\n",
    "                 node_shape = \"\", node_size = 3000,\n",
    "                 edge_color = edge_colors)  #color of the edges\n",
    "\n",
    "nx.draw_networkx_edge_labels(G, pos = pos,\n",
    "                             edge_labels={(15, 19): 'Nonparametric',\n",
    "                                          (12, 18): 'Nonparametric',\n",
    "                                          (8,17): 'Nonparametric',\n",
    "                                          (3, 9): 'we want to predict',\n",
    "                                          (4, 11): 'small sample data',\n",
    "                                          (5, 12): 'to compare 2 groups',\n",
    "                                          (5, 13): 'to predict',\n",
    "                                          (6, 15): 'compare multiple groups'},\n",
    "                             font_color='black')\n",
    "plt.title('What Statistical Method to Choose?')\n",
    "#plt.savefig('data/roadmap_stats.jpeg', dpi = 300)\n",
    "plt.grid(visible=None)\n",
    "plt.show()"
   ],
   "metadata": {
    "collapsed": false
   }
  },
  {
   "cell_type": "markdown",
   "source": [
    "|                                              | Type of Data            |||||                                         |     |\n",
    "|----------------------------------------------|-------------------------|-----------------------------------------|---|---|---|\n",
    "| __Goal__                                     | __Normal Distribution__ | __Rank, Score, or non-Normal Distribution__ | __Binomial__ |\n",
    "| Describe one group                           | mean, SD                | Median, IQR                             | Proportion |\n",
    "| Compare one group to a value (or population) | One-Sample t-test       | Wilcoxon single-rank W-test                           | Chi-Square or Binomial test |\n",
    "| Compare two groups                           | Two-Sample t-test       | Mann-Whitney U-test                     | Fisher's test |\n",
    "| Compare three or more groups                 | One-Way ANOVA           | Kruskal-Wallis H-test                   | Chi-Square test    |\n",
    "| Quantify relation between two variables      | Pearson Correlation     | Spearman Correlation                    | Contingency coefficients |\n",
    "| Predict value from another variable          | Simple Linear Regression | Nonparametric regression               | Simple Logistic Regression |\n",
    "| Predict value from several measured variables | Multiple Linear Regression | - | Multiple Logistic Regression |\n"
   ],
   "metadata": {
    "collapsed": false
   }
  },
  {
   "cell_type": "markdown",
   "source": [],
   "metadata": {
    "collapsed": false
   }
  },
  {
   "cell_type": "markdown",
   "source": [],
   "metadata": {
    "collapsed": false
   }
  },
  {
   "cell_type": "markdown",
   "source": [],
   "metadata": {
    "collapsed": false
   }
  },
  {
   "cell_type": "markdown",
   "source": [],
   "metadata": {
    "collapsed": false
   }
  },
  {
   "cell_type": "code",
   "execution_count": 132,
   "outputs": [],
   "source": [],
   "metadata": {
    "collapsed": false
   }
  }
 ],
 "metadata": {
  "kernelspec": {
   "display_name": "Python 3",
   "language": "python",
   "name": "python3"
  },
  "language_info": {
   "codemirror_mode": {
    "name": "ipython",
    "version": 2
   },
   "file_extension": ".py",
   "mimetype": "text/x-python",
   "name": "python",
   "nbconvert_exporter": "python",
   "pygments_lexer": "ipython2",
   "version": "2.7.6"
  }
 },
 "nbformat": 4,
 "nbformat_minor": 0
}
